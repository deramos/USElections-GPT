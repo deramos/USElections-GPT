{
 "cells": [
  {
   "cell_type": "markdown",
   "id": "677b54c0-5098-4876-ae3a-cd41292612b6",
   "metadata": {},
   "source": [
    "# Mistral Quantization and Finetuning"
   ]
  },
  {
   "cell_type": "code",
   "execution_count": 1,
   "id": "417069b5-b003-43ed-950a-d4eac89918ff",
   "metadata": {},
   "outputs": [],
   "source": [
    "!pip install -q accelerate\n",
    "!pip install -qi https://pypi.org/simple/ bitsandbytes"
   ]
  },
  {
   "cell_type": "code",
   "execution_count": 3,
   "id": "a94f25a5-03c2-490a-96d7-c03606eaf730",
   "metadata": {},
   "outputs": [],
   "source": [
    "import torch\n",
    "from transformers import AutoTokenizer, BitsAndBytesConfig, AutoModelForCausalLM"
   ]
  },
  {
   "cell_type": "code",
   "execution_count": 4,
   "id": "47e9ba5e-9f6e-4c62-a8b1-a251781ebad7",
   "metadata": {},
   "outputs": [],
   "source": [
    "model_name = 'mistralai/Mistral-7B-Instruct-v0.2'"
   ]
  },
  {
   "cell_type": "code",
   "execution_count": 5,
   "id": "1c4c7ae3-4a9b-4efe-9a56-b31059d0644d",
   "metadata": {},
   "outputs": [],
   "source": [
    "tokenizer = AutoTokenizer.from_pretrained(model_name)\n",
    "tokenizer.padding_side = 'right'\n",
    "tokenizer.pad_token = tokenizer.eos_token"
   ]
  },
  {
   "cell_type": "markdown",
   "id": "c236ed2e-5343-460b-b8b8-4f9cde384fa3",
   "metadata": {},
   "source": [
    "## Quantization\n",
    "Quantization is done reduce memory footprint and perform faster inference while still retaining acceptable model performance. For this quantization, we will use bitandbytes"
   ]
  },
  {
   "cell_type": "code",
   "execution_count": 6,
   "id": "d06f522b-4aac-4995-8674-fb167ff722e0",
   "metadata": {},
   "outputs": [],
   "source": [
    "# Use 4 bit compute \n",
    "use_4bit = True\n",
    "\n",
    "# compute dtype for 4-bit models\n",
    "compute_dtype = \"float16\"\n",
    "\n",
    "# quantization type\n",
    "quantization_type = 'nf4'\n",
    "\n",
    "# use double quantization\n",
    "use_nested_quant = False"
   ]
  },
  {
   "cell_type": "code",
   "execution_count": 7,
   "id": "b9d94a9c-289d-492b-8574-527927e276c4",
   "metadata": {},
   "outputs": [],
   "source": [
    "bnb_compute_dtype = getattr(torch, compute_dtype)\n",
    "\n",
    "quantization_config = BitsAndBytesConfig(\n",
    "    load_in_4bit=use_4bit,\n",
    "    bnb_4bit_quant_type=quantization_type,\n",
    "    bnb_4bit_compute_dtype=bnb_compute_dtype,\n",
    "    bnb_4bit_use_double_quant=use_nested_quant,\n",
    ")"
   ]
  },
  {
   "cell_type": "code",
   "execution_count": null,
   "id": "1de3ad33-0fd8-458b-8853-282ee3c0fb75",
   "metadata": {},
   "outputs": [],
   "source": [
    "model = AutoModelForCausalLM.from_pretrained(\n",
    "    model_name,\n",
    "    quantization_config=quantization_config,\n",
    ")"
   ]
  },
  {
   "cell_type": "code",
   "execution_count": null,
   "id": "320122ca-fefe-4545-a3c8-78c2885a0d3e",
   "metadata": {},
   "outputs": [],
   "source": [
    "chat_input = tokenizer.encode_plus(\"[INST] Was Vivek Ramaswamy running for president ? [/INST]\", return_tensors=\"pt\")['input_ids'].to('cuda')\n",
    "\n",
    "generated_ids = model.generate(chat_input, \n",
    "                               max_new_tokens=1000, \n",
    "                               do_sample=True, \n",
    "                               pad_token_id=tokenizer.eos_token_id)\n",
    "decoded = tokenizer.batch_decode(generated_ids)"
   ]
  },
  {
   "cell_type": "markdown",
   "id": "facb87b2-97f9-4b3c-b1d0-f8660945f292",
   "metadata": {},
   "source": [
    "## Langchain And Prompt Engineering"
   ]
  },
  {
   "cell_type": "code",
   "execution_count": null,
   "id": "530c6c81-6473-4140-b52c-9a2cf2000e88",
   "metadata": {},
   "outputs": [],
   "source": [
    "!pip install -q langchain"
   ]
  },
  {
   "cell_type": "code",
   "execution_count": null,
   "id": "cb06188e-dde7-44cb-bd17-17f7b75ccdc2",
   "metadata": {},
   "outputs": [],
   "source": [
    "from langchain import LLMChain\n",
    "from langchain.llms import HuggingFacePipeline\n",
    "from langchain.prompts import PromptTemplate\n",
    "from transformers import pipeline\n",
    "from langchain.embeddings.huggingface import HuggingFaceEmbeddings"
   ]
  },
  {
   "cell_type": "code",
   "execution_count": null,
   "id": "2acc4944-e8cc-4ede-9766-d7c84c0b4a31",
   "metadata": {},
   "outputs": [],
   "source": [
    "text_generation_pipeline = pipeline(\n",
    "    model=model,\n",
    "    tokenizer=tokenizer,\n",
    "    task='text-generation',\n",
    "    temperature=0.2,\n",
    "    repetition_penalty=1.1,\n",
    "    return_full_text=True,\n",
    "    max_new_tokens=1000\n",
    ")"
   ]
  },
  {
   "cell_type": "code",
   "execution_count": 20,
   "id": "56dd0a4e-12f7-4c37-a774-7502e58faa77",
   "metadata": {},
   "outputs": [],
   "source": [
    "prompt_template = \"\"\"\n",
    "### [INST]\n",
    "Instruction: You are an expert political analyst with vast knowledge of the United States electoral process. You answer questions with \n",
    "certainty and you do not hallucinate. When unsure, you politely reply that you do not have sufficient knowledge to answer the user question.\n",
    "You will generate new content by analysing the context supplied with each user question. Using this knowledge, answer the following questions.\n",
    "Here is the context to help:\n",
    "\n",
    "{context}\n",
    "\n",
    "[/INST]\n",
    "\"\"\""
   ]
  },
  {
   "cell_type": "code",
   "execution_count": null,
   "id": "7384413a-41f6-468a-b455-ac9f146cfbf7",
   "metadata": {},
   "outputs": [],
   "source": [
    "llm_pipeline = HuggingFacePipeline(pipeline=text_generation_pipeline)"
   ]
  },
  {
   "cell_type": "code",
   "execution_count": null,
   "id": "96537401-5143-4e91-9bbe-86a48fe2844c",
   "metadata": {},
   "outputs": [],
   "source": [
    "prompt = PromptTemplate(\n",
    "    input_variables=['context', 'question']\n",
    "    template=prompt_template\n",
    ")"
   ]
  },
  {
   "cell_type": "code",
   "execution_count": null,
   "id": "f91def7c-eb7a-410e-afea-3d7e178113b1",
   "metadata": {},
   "outputs": [],
   "source": [
    "llm_chain = LLMChain(llm=llm_pipeline, prompt=prompt)"
   ]
  },
  {
   "cell_type": "code",
   "execution_count": null,
   "id": "4fe27046-037a-47c9-883f-42c9cce7f6ce",
   "metadata": {},
   "outputs": [],
   "source": [
    "context = \"\"\"\n",
    "Vivek Ramaswamy, the multi-millionaire biotech entrepreneur and self-described intellectual godfather of the anti-woke movement, announced on Tuesday that he is running for president.\n",
    "“We are in the middle of a national identity crisis,” he declared in an online video launching his campaign, offering that the current political climate constituted a form of “psychological slavery.”\n",
    "Speaking straight to the camera, with an American flag draped in the background and a flag pin on his lapel, Ramaswamy framed his campaign as a broad counteroffensive to what he called the “woke left” — describing it as a threat to open speech, the free exchanging of ideas and American exceptionalism itself.\n",
    "Ramaswamy is the third high-profile candidate to declare for the presidency in 2024. Though he filed forms with the FEC declaring he would be running on the Republican side of the aisle, his announcement video made no mention of the party itself — an indication that he hopes to frame his candidacy as outside the conventional political framework.\n",
    "He has already done barnstorming in early nominating states, including Iowa, where he was well received even as some of the state’s political bigwigs professed to not having familiarity with the planks on which he was running.\n",
    "Ramaswamy made his fortune in biotech investing, but he is best known for his appearances on Fox News and for the New York Times bestselling book he has written.\n",
    "While his chances of securing the nomination are certainly long, Ramaswamy’s entry into the contest was greeted with a traditional flare from opposition Democrats. Shortly after he appeared on Fox News to elaborate on his decision to run, the Democratic National Committee sent out a statement.\n",
    "“As Vivek Ramaswamy uses Tucker Carlson’s show to announce his campaign for president, one thing is clear: The race for the MAGA base is getting messier and more crowded by the day,” it read. “Over the next few months, Republicans are guaranteed to take exceedingly extreme positions on everything from banning abortion to cutting Social Security and Medicare and we look forward to continuing to ensure every American knows just how extreme the MAGA agenda is.”\n",
    "\"\"\""
   ]
  },
  {
   "cell_type": "code",
   "execution_count": null,
   "id": "151a486b-3543-4ba7-bf9b-01f3d0dc52b0",
   "metadata": {},
   "outputs": [],
   "source": [
    "llm_chain.invoke({\"context\": context,\n",
    "                 \"question\": \"Was Vivek Ramaswamy running for president in the 2024 general election ?\"})"
   ]
  },
  {
   "cell_type": "markdown",
   "id": "dbecf6cd-649b-42da-bf65-8313929857f0",
   "metadata": {},
   "source": [
    "## Langchain and Chroma DB"
   ]
  },
  {
   "cell_type": "code",
   "execution_count": 9,
   "id": "8fdcb0bc-07c0-4545-ab13-08a7853fe0cd",
   "metadata": {},
   "outputs": [],
   "source": [
    "from langchain.vectorstores import Chroma\n",
    "from langchain.embeddings import HuggingFaceEmbeddings"
   ]
  },
  {
   "cell_type": "code",
   "execution_count": 11,
   "id": "f8ddb46a-ffbf-4cbc-a7a3-50fda77d90ea",
   "metadata": {},
   "outputs": [],
   "source": [
    "from chromadb import HttpClient\n",
    "chroma_client = HttpClient()"
   ]
  },
  {
   "cell_type": "code",
   "execution_count": 12,
   "id": "af328c7b-0379-4685-92e1-7866bbe4840e",
   "metadata": {},
   "outputs": [],
   "source": [
    "vector_store = Chroma(client=chroma_client, \n",
    "                      embedding_function=HuggingFaceEmbeddings(model_name=\"all-MiniLM-L6-v2\"), \n",
    "                      collection_name='us-election-gpt')"
   ]
  },
  {
   "cell_type": "code",
   "execution_count": 13,
   "id": "859468b1-b944-4195-a0dc-dbe1383f4f8a",
   "metadata": {},
   "outputs": [],
   "source": [
    "retriever = vector_store.as_retriever()"
   ]
  },
  {
   "cell_type": "code",
   "execution_count": 14,
   "id": "61a91bcf-5050-41ac-975c-e263f77cef8b",
   "metadata": {},
   "outputs": [],
   "source": [
    "query = 'What is Donald Trump up to lately?'\n",
    "query_embedding = tokenizer(query)"
   ]
  },
  {
   "cell_type": "code",
   "execution_count": 15,
   "id": "74dba8d0-4c81-4cff-a366-0c8f8b4298b8",
   "metadata": {},
   "outputs": [
    {
     "data": {
      "text/plain": [
       "[Document(page_content='Follow:Alabama Sen. Katie Britt on Sunday acknowledged that the graphic anecdote she employed to criticize President Joe Biden’s border policies didn’t occur during his presidency.During theto theon Thursday, Britt described a woman’s story of being “sex trafficked by the cartels starting at age 12” before saying, “President Biden’s border crisis is a disgrace. It’s despicable. And it’s almost entirely preventable.”Asked by Fox News’ Shannon Bream on Sunday whether she meant to give the impression that the story had taken place during Biden’s time in office, Britt responded: “No, Shannon,” before criticizing the president’s border policies.“I very clearly said I spoke to a woman who told me about when she was trafficked when she was 12. So I didn’t say a teenager, I didn’t say a young woman, a grown woman. A woman, when she was trafficked, when she was 12,” Britt said.on Friday, freelancetracked down what appears to be the story Britt referenced and found that it happened in Mexico in the mid-2000s.Katz citedfrom Sen. Marsha Blackburn, who, along with Sens. Britt and Cindy Hyde-Smith, went to Eagle Pass, Texas, in January 2023 – shortly after Britt took office – to hear from Karla Jacinto, a human trafficking survivor, among others.“The Senators learned about cartel activity in Mexico and the work being done to rescue victims of human trafficking,” the press release said.Jacinto has shared her story publicly, includingon sex trafficking held by the House Foreign Affairs Subcommittee on Global Human Rights. Through a translator, she said that for four years, starting from the age of 12, she was “emotionally and sexually violated time and time again.” She explained how, at age 16, she was able to escape to a shelter and “grow into the activist” she became.Jacinto told CNN on Sunday that she was trafficked before Biden’s presidency and said legislators lack empathy when using the issue of human trafficking for political purposes.“I hardly ever cooperate with politicians, because it seems to me that they only want an image. They only want a photo — and that to me is not fair,” she told CNN’s Rafael Romo.CNN reached out to the senator’s office seeking comment Sunday.Britt has previously referenced the story she gave Thursday – including on Capitol Hill on September 27, 2023, according to herWhite House spokesman Andrew Bates told CNN in a statement Sunday, “Instead of telling more debunked lies to justify opposing the toughest bipartisan border legislation in modern history, Senator Britt should stop choosing human smugglers and fentanyl traffickers over our national security and the Border Patrol Union.”Senate Republicans last monthand foreign aid package that would have enacted restrictive border measures amid a torrent of attacks on the bill by former President Donald Trump and top House Republicans.CNN’s Rafael Romo contributed to this story.© 2024 Cable News Network. A Warner Bros. Discovery Company. All Rights Reserved.CNN Sans ™ & © 2016 Cable News Network.', metadata={'entities': '{\"GPE\": [\"Texas\", \"Alabama\", \"Mexico\", \"Jacinto\"], \"PERSON\": [\"Karla Jacinto\", \"Marsha Blackburn\", \"Joe Biden\", \"Katz\", \"Katie Britt\", \"Biden\", \"Britt\", \"Rafael Romo\", \"Donald Trump\", \"Cindy Hyde-Smith\", \"Andrew Bates\"], \"ORG\": [\"herWhite House\", \"CNN\", \"Cable News Network\", \"House\", \"Eagle Pass\", \"the House Foreign Affairs Subcommittee on Global Human Rights\", \"Fox News\", \"Warner Bros. Discovery Company\", \"includingon\", \"the Border Patrol Union\"], \"NORP\": [\"Republicans\"]}', 'source': 'CNN', 'summary': 'Alabama Sen. Katie Britt used a graphic anecdote to criticize President Joe Biden’s border policies. Britt: “I very clearly said I spoke to a woman who told me about when she was trafficked when I was 12.” Britt has previously referenced the story she gave Thursday – including on Capitol Hill in September 2023.'}),\n",
       " Document(page_content='Former Presidenton Monday suggested he was open to making cuts to Social Security and Medicare after opposing touching the entitlement programs and attacking his GOP presidential primary rivals over the issue.Trump was asked inwhether he had changed his outlook on how to handle entitlement programs like Social Security, Medicare and Medicaid in order to tackle the national debt.“There is a lot you can do in terms of entitlements, in terms of cutting and in terms of also the theft and the bad management of entitlements,” Trump said on CNBC’s “Squawk Box.”He added: “There’s tremendous amounts of things and numbers of things you can do.”Following the interview, President Joe Biden responded to a clip his campaign made of Trump’s comments: “Not on my watch.”Trump campaign spokeswoman Karoline Leavitt later told CNN that Trump was “clearly talking about cutting waste, not entitlements.”“President Trump delivered on his promise to protect Social Security and Medicare in his first term, and President Trump will continue to strongly protect Social Security and Medicare in his second term,” said Leavitt, who argued: “The only candidate who poses a threat to Social Security and Medicare is Joe Biden.”“By unleashing American energy, slashing job-killing regulations, and adopting pro-growth America First tax and trade policies, President Trump will quickly rebuild the greatest economy in history and put Social Security and Medicare on a stronger footing for generations to come,” Leavitt said.When Trump was president, his administration’s budget proposals included spending cuts to Social Security, primarily by targeting disability benefits, and Medicare, largely by reducing provider payments. Trump also signaled in an interview with CNBC in 2020 that he was open to cutting federal entitlements to reduce the federal deficit.But Trump has vowed repeatedly on the campaign trail this election cycle to “always defend Medicare and Social Security,” and has a video posted to his campaign website in which he says, “Under no circumstances should Republicans vote to cut a single penny from Medicare or Social Security.”“We don’t have to play around with Social Security and Medicare,” Trump said at a campaign rally in Michigan last month.Trump also fiercely attacked former GOP rival Nikki Haley on the campaign trail over her support for reforming these entitlement programs. Haley called for increasing the age at which today’s younger workers would become eligible for Social Security retirement benefits and limiting the benefits of wealthier Americans. Trump also regularly took aim at Florida Gov. Ron DeSantis over his past support of privatizing Social Security and raising the retirement age – positions the governor distanced himself from during his failed presidential bid.The Biden administration has sought to contrast the president’s support of Social Security and Medicare with Republicans’ proposals to address shortfalls in the programs’ finances. In his State of the Union address last week, Biden said he would stop anyone who tries to cut the programs or raise the retirement age.Without any changes,are set to run dry in 2034, at which time the program’s continuing income from taxes will only be able to cover 80% of benefits owed, according the most recent Social Security trustees report.Medicare’s hospital insurance trust fund, known as Medicare Part A, will only be able to pay scheduled benefits in full until 2031, according to the latest Medicare trustees’ annual report. At that time, Medicare, which covers nearly 67 million senior citizens and people with disabilities, will only be able to cover 89% of total scheduled benefits.Two factors driving the projected rise in deficits are the aging population and the growth in federal health care costs, which will necessitate greater spending on Social Security and Medicare, according to the Congressional Budget Office.Trump has been more open to cutting Medicaid enrollment and reducing federal funding for the program, which provides health coverage to low-income Americans. His administration approved requests from several states to require certain enrollees to work, which resulted in thousands of people losing coverage in Arkansas, the only state that implemented it for a short time before being stopped in federal court.And as part of the 2017 efforts to repeal and replace the Affordable Care Act, Republicans wanted to curtail the amount offor Medicaid by sending a fixed amount of money to the states each year and reducing the growth rate of that funding. Additionally, they wanted to jettison the Obamacare program that expands Medicaid coverage to low-income adults.Also in the Monday interview with CNBC, Trump said it was a “tough decision” on whether the US should ban TikTok and argued getting rid of the app would benefit Facebook.“The thing I don’t like is that without TikTok, you can make Facebook bigger, and I consider Facebook to be an enemy of the people along with a lot of the media,” Trump said, adding he thought “Facebook has been very bad for our country, especially when it comes to elections.”Trump said he thought TikTok posed a national security threat to the US but said “you have that problem with Facebook and lots of other companies too,” and said, “there are a lot of people on TikTok that love it.”“There’s, you know, a lot of good, and there’s a lot of bad with TikTok,” Trump said.His comments come days after a House committee unanimously advanced a bill that could lead to a nationwide ban against TikTok on all electronic devices. The measure, which was approved by the House Energy and Commerce Committee, would prohibit TikTok from US app stores unless the social media platform is quickly spun off from its China-linked parent company, ByteDance. TikTok is one of the world’s most popular social media apps and is used by roughly 170 million Americans.When Trump was president, he supported calls to ban the app, but has since appeared to have backed away from that stance. Trump was asked by CNBC about his change in position on TikTok and whether there was any connection to his recent meeting with Jeff Yass, a top GOP donor and major TikTok investor.Trump said he did not discuss TikTok with Yass, and said he met with Yass and his wife for only “a few minutes,” and that Yass “never mentioned TikTok.”Trump said when he was president, he wanted Congress to decide whether TikTok should be banned.“I was at the point where I could have gotten it done if I wanted to,” Trump said. “I sort of said, you guys decide, you make that decision because it’s a tough decision to make.”Trump also said in the Monday interview that imposing tariffs “gives you power in dealing with other countries,” and said, “I’m a big believer in tariffs.”“Tariffs are tremendously powerful in terms of stopping wars because they don’t want tariffs. And frankly, I can, I made them sing, I made other countries sing with the threat of tariffs. And if you don’t have tariffs, we have nothing whatsoever on them,” Trump said.Trump said last month he would consider imposing a tariff upward of 60% on all Chinese imports if he regains the presidency.As president, Trump imposed tariffs of 25% on $50 billion of Chinese goods in June 2018. Beijing countered with its own tariffs, and the spiral continued until the two countries arrived at an agreement in 2020. The Biden administration has largely kept the Trump-era tariffs in place.© 2024 Cable News Network. A Warner Bros. Discovery Company. All Rights Reserved.CNN Sans ™ & © 2016 Cable News Network.', metadata={'entities': '{\"ORG\": [\"CNN\", \"the House Energy and Commerce Committee\", \"Social Security\", \"CNBC\", \"Presidenton\", \"TikTok\", \"Warner Bros. Discovery Company\", \"Yass\", \"the Congressional Budget Office\", \"ByteDance\", \"Medicare\", \"Cable News Network\", \"Nikki Haley\", \"House\", \"America First\", \"GOP\", \"Medicaid\", \"Trump\", \"Congress\"], \"PERSON\": [\"Karoline Leavitt\", \"Jeff Yass\", \"jettison\", \"Joe Biden\", \"Leavitt\", \"Ron DeSantis\", \"Trump\", \"Biden\", \"Yass\", \"Haley\"], \"NORP\": [\"Republicans\", \"Americans\", \"American\", \"Chinese\", \"Obamacare\"], \"GPE\": [\"Arkansas\", \"Michigan\", \"Florida\", \"Beijing\", \"China\", \"US\"]}', 'source': 'CNN', 'summary': 'Trump was asked inwhether he had changed his outlook on how to handle entitlement programs like Social Security, Medicare and Medicaid in order to tackle the national debt. “There is a lot you can do in terms of entitlements,” Trump said. President Joe Biden responded to a clip his campaign made of Trump’s comments: “Not on my watch.”'}),\n",
       " Document(page_content='Former President Donald Trump continues to make false claims about the New York civil fraud case he lost – including a wildly inaccurate declaration on Tuesday that an appeals court previously said that he had “won the case.”Trump has made similar claims for. He delivered an especially unequivocal version at a Tuesday campaign rally in Wisconsin, the day after heto prevent New York Attorney General Letitia James from beginning to collect on Judge Arthur Engoron’s $454 million judgment against him.Trump said: “The Appellate Division actually gave me the case. I won the case, because I won it in the Appellate Division. …I won the case because it’s called statute of limitations. The Appellate Division ruled in my favor. That means most of the case is gone; the judge refused to honor it. Now, he – nobody ever heard of that before. So the Appellate Division said, ‘You won the case, that’s it,’ and the judge said, ‘I don’t accept it.’ He’s called a rogue judge. He’s a rogue judge; he’s a fake judge.”Trump is entitled to argue that Engoron wrongly applied the appeals court’s language about the statute of limitations; he hasof Engoron’s judgment, and it’s always possible he will win. But the appeals court’s 2023 ruling simply did not say what he keeps saying it did.Trump’s assertion that the appeals court said, “You won the case, that’s it,” and Engoron said, “I don’t accept it” creates an impression of a judge who refuse to heed the open-and-shut words of a higher court. But that’s not at all what happened.Rather, Engoron was tasked with interpreting what the appeals court meant when it barred any claims concerning transactions that were “completed” before July 13, 2014, for defendants covered by the “” signed in 2021 by Trump Organization chief legal officer Alan Garten. (A tolling agreement temporarily pauses the statute of limitations so the parties can try to work out a settlement. The cutoff date would’ve been February 6, 2016, for any defendants Engoron decided weren’t covered by the agreement.)Trump’s lawyers argued to Engoron that transactions should be considered “completed” when loan agreements were entered into and the money was disbursed, even if financial statements were later sent to the lenders as required by the loan deals. But Engoron rejected that argument in the September 2023 ruling in which he–, “Obviously, the transactions were not ‘completed’ while the defendants were still obligated to, and did, annually submit current SFCs [Statements of Financial Condition] to comply with the terms of the loan agreements.”James’ office, Engoron wrote, “is not challenging the loans, the closings, or the disbursements; it is challenging defendants’ submissions of financial documents containing false and misleading information. Thus, any SFC that was submitted after July 13, 2014, falls within the applicable statute of limitations.” He wrote that “each submission of an SFC after July 13, 2014, constituted a separate fraudulent act.”Engoron addressed the matter again on the second day of the trial in October 2023. He said: “The general rule is that a claim accrues when someone can sue on it. Here, the attorney general is suing over the use of false financial statements in business, not over the underlying deals themselves. Obviously, she could not have sued on those statements until defendants issued them. Every use of a false financial statement in business starts the statute of limitations running, again, no matter when the transaction out of which [it] arose, closed.”Trump’s false assertions about the appeals court ruling have been corrected before, both by theand by Engoron himself.After Trump wronglyto reporters, following the first day of the trial, that “about 80% of the case is over” because of the appeals court ruling, Engoron said in court the next day: “This case arrived at the App. Div., as we call it, with seven causes of action. It left with seven causes of action. It arrived with 16 defendants. It left with 15 defendants. It arrived at the Appellate Division with a six-year statute of limitations. It left with a six-year statute of limitations, extended by both Covid tolling, and a tolling agreement. I understand that the defendants strongly disagree with this, and will appeal, in part, on this ground.”© 2024 Cable News Network. A Warner Bros. Discovery Company. All Rights Reserved.CNN Sans ™ & © 2016 Cable News Network.', metadata={'entities': '{\"PERSON\": [\"Covid\", \"wronglyto\", \"Engoron\", \"Donald Trump\", \"Arthur Engoron\", \"Letitia James\", \"Alan Garten\"], \"GPE\": [\"Wisconsin\", \"New York\"], \"ORG\": [\"CNN\", \"Trump Organization\", \"the Appellate Division\", \"Cable News Network\", \"Engoron\", \"Warner Bros. Discovery Company\", \"Trump\", \"The Appellate Division\"]}', 'source': 'CNN', 'summary': 'Former President Donald Trump continues to make false claims about the New York civil fraud case he lost. Trump said on Tuesday that an appeals court previously said that he had “won the case.” Trump is entitled to argue that Judge Arthur Engoron wrongly applied the appeals court’s language.'}),\n",
       " Document(page_content='A female CIA trainee who claims she was sexually assaulted in a stairwell at CIA headquarters in 2022 and is nowalleging intimidation has been fired, her lawyer said on Thursday.In an email sent to House Intelligence Committee staff, who have been hearing testimony from alleged victims of sexual assault at the CIA, the lawyer called the dismissal “clear retaliation for her protected whistleblower statements to law enforcement, Congress and the IG (Inspector General) as a sex assault victim.”In a statement, CIA spokesperson Tammy Thorp called the attorney’s statement “factually inaccurate.”“To be clear, CIA does not tolerate sexual assault, sexual harassment, or whistleblower retaliation,” Thorp said.The unnamed trainee failed the agency’s rigorous training program for clandestine officers, known colloquially as “The Farm,” according to the lawyer, Kevin Carroll — after she had testified before the House Intelligence Committee about her assault, he said. She was then given 90 days to find another job within the agency or be terminated. She was unable to secure another posting and was dismissed on Monday, he said.According to Carroll, the trainee is a highly qualified project manager who speaks multiple languages, including Russian and Ukrainian.Thorp said: “Regarding allegations related to the Agency’s rigorous training, as you would expect, CIA uses consistent processes to ensure the fair and equal treatment of every officer going through training.”The trainee’s dismissal comes four months after she filed a federal civil rights lawsuit in Virginia claiming that the agency inappropriately intervened on behalf of her assailant in his criminal trial last year.The suit comes as the CIA continues to face scrutiny on Capitol Hill over its handling of sexual harassment and sexual assault cases. Thelast year initiated a “special review” after a number of women told congressional intelligence committees that their allegations of sexual misconduct were “grossly mishandled.”At issue in the victim’s suit is not the assault itself — for which her assailant was convicted of assault and battery in Fairfax County General District Court — but the CIA’s handling of the victim’s initial report and efforts to seek justice.The suit alleges that the agency improperly shared her internal workplace instant messages with her assailant’s criminal defense team, which the victim claims were intended to falsely portray her as having an extramarital affair with another colleague.The IMs were not provided to the court\\u202fas a result of a court-ordered subpoena or a request from law enforcement, according to the suit, and the victim now argues that their provision was in violation of her Privacy Act rights and represent an attempt by the CIA to prevent the conviction of her assailant by intimidating her from testifying.A CIA spokesperson declined to discuss the specifics of the case at the time, citing the litigation.\\u202f“CIA protects the privacy of our officers and acts in accordance with the law.”Settlement negotiations are underway in the civil suit, Carroll said, but it’s not clear whether they will be successful.© 2024 Cable News Network. A Warner Bros. Discovery Company. All Rights Reserved.CNN Sans ™ & © 2016 Cable News Network.', metadata={'entities': '{\"ORG\": [\"Thorp\", \"IG\", \"Agency\", \"CNN\", \"Cable News Network\", \"House Intelligence Committee\", \"District Court\", \"Carroll\", \"Warner Bros. Discovery Company\", \"trainee\", \"CIA\", \"Capitol Hill\", \"Congress\", \"the House Intelligence Committee\"], \"PERSON\": [\"Tammy Thorp\", \"Kevin Carroll\"], \"NORP\": [\"Russian\"], \"GPE\": [\"Virginia\", \"Ukrainian\", \"Fairfax County\"]}', 'source': 'CNN', 'summary': 'The unnamed trainee failed the agency’s rigorous training program for clandestine officers. She was given 90 days to find another job within the agency or be terminated, her lawyer says. The trainee filed a federal civil rights lawsuit in Virginia claiming that the agency inappropriately intervened on behalf of her assailant.'}),\n",
       " Document(page_content='A critical US partner in northwest Africa is turning toward Russia amid warnings from the top US commander in the continent that the Russians are trying to “take over” the entire Sahel region of Africa.Niger, which has served as a crucial foothold for US counterterrorism operations in the region for nearly a decade,that it was ending the accord that has allowed US military personnel and civilian staff to operate in the country since 2014.The announcement came days after a tense meeting between Niger’s military junta, which seized power in a, and US diplomatic and military officials including Gen. Michael Langley, commander of US Africa Command, and  Celeste Wallander, the assistant secretary of defense for international security affairs, defense officials told CNN. In that meeting, the US delegation expressed concern about the escalating Russian military presence in Niger, officials said, and particularly about the future of Air Base 101 in Niger’s capital and whether it will be ceded to the Russians, officials said.The discussion angered the junta leaders, who felt like they were being lectured to, despite the US cutting off much of its military and foreign assistance to Niger late last year following the coup.“When it comes to choosing diplomatic, strategic and military partners, the government of Niger regrets the willingness of the American delegation to deny the sovereign people of Niger the right to choose its partners and the types of partnerships likely to help it to truly fight terrorism, even though the United States of America has unilaterally decided to suspend all cooperation between our two countries,” Col. Maj. Amadou Abdramane, a Nigerien military spokesman, said in a statement Saturday, adding that the US delegation had a “condescending attitude” toward the Nigeriens.Deputy Pentagon press secretary Sabrina Singh confirmed on Monday that the US delegation “expressed concern over Niger’s potential relationships with Russia” as well as with Iran.“We raised our concerns in a direct and frank manner,” she said.The intensifying military cooperation between Russia and Niger is central to the dispute between the US and the Nigerien junta, officials said. Russia and Niger agreed to strengthen their military ties in January, Russia’s Defense Ministry said at the time.Still, while US counterterrorism operations and training with the Nigerien military largely paused after the coup, the junta did not ask the US to leave, even after kicking out French troops and cutting remaining ties with the EU in late 2023.Several of the junta leaders have worked with and been trained by the US as part of the US’ security cooperation with the country over the years. And the Pentagon has been eager to keep a force presence in the country, with many administration officialsto tackle terrorism in the region and arguing that it’s feasible even amid the political turmoil there.Now, however, there is concern among US military officials that with Russia’s increasing presence in Niger, the Kremlin has established another foothold in the Sahel region and the West is losing its influence, a military source with knowledge of the situation said.Langley, the AFRICOM commander,that the US has been “drowned out” by Russian disinformation across Africa in previous years, leading to Russia’s success in stoking “a lot of the instability across the Sahel.”He added that both Russia and China “want that ground. They want power projection capabilities. … But I think at [an] accelerated pace, the Russian Federation is really trying to take over Central Africa as well as the Sahel.”State Department spokesman Matthew Miller said Saturday that the US remains in touch with the junta, which calls itself the National Council for Safeguarding the Homeland, or CNSP.“We are aware of the statement from the CNSP in Niger, which follows frank discussions at senior levels in Niamey this week about our concerns with the CNSP’s trajectory,” Miller said in a statement. “We are in touch with the CNSP and will provide further updates as warranted.”It is not yet clear whether the military junta in Niger will actually force the US military to leave the country, where US forces have conducted anti-terror operations and trained the Nigerien military since 2014.If the US were forced to withdraw, counterterrorism efforts across the region could take a hit, officials said. US drone flights out of an air base in Agadez,Niger, have given the US the ability to monitor threats in the Sahel region from a relatively close and stable position, especially as violent terror organizations have carried out a growing number of attacks in neighboring Mali and Burkina Faso.Officials are also concerned that withdrawing the approximately 650 US troops stationed in Niger could leave a vacuum that Islamist militants and Russian mercenaries, including what’s left of, would try to exploit.Russia has kept its sights on Niger as the US-Nigerien relationship has deteriorated. In December, the Kremlin reopened its embassy in neighboring Burkina Faso, positioning itself closer to the capital of Niger, and it has increased its effort to court Niger’s military junta, a senior intelligence official told CNN.Part of the appeal for Niger is that Russia can offer to sell its own weapons and equipment without the same conditions to respect human rights and abide by international law that the US calls for, the official said. And, for a country looking for an immediate supply of military hardware, Russia is able to sell its weapons much faster than the United States. In return, Russia is profiting off the region’s natural resources, another official said, including the gold mines in Niger.Abdramane, the Nigerien military spokesman, said Saturday that Russia “is a partner with which Niger deals on a state-to-state basis, in accordance with military cooperation agreements signed with the previous government, to acquire military equipment necessary to its fight against the terrorists who have claimed thousands of innocent Nigerian victims under the indifferent eye of much of the international community.”The US-Nigerien relationship has gone downhill quickly. Late last year, the US believed the junta government was in a “better place,” according to the senior intelligence official, and was refocusing on countering the rise of violent extremist organizations in Western Africa. The groups include ISIS-Sahel and Jama’at Nusrat al-Islam Wal-Musliminim, more commonly known as JNIM, a radical Islamist organization operating in Mali, Burkina Faso and Niger.A reduction in US surveillance missions in the region following the coup in Niger gave ISIS-Sahel and JNIM an opportunity to expand, the official said. But even with cooperation between the US and Niger reduced, the US military’s goal remained the same: to provide support to counter the spread of extremist organizations. Several European countries shared this goal, offering a measure of support to the junta, the official noted.But with Russia exerting more pressure and the US limited in what it can provide to Niger by law because of the coup designation, the Nigerien government has been cracking down even harder on the remaining Western military presence in the country, the sources said. US operations in the country require stricter Nigerien oversight and approval, even as the Russian presence in the country has grown increasingly visible.“Northwest Africa is getting carved up in real time by half a dozen or more countries,” one of the officials said, “and the United States is losing its foothold.”© 2024 Cable News Network. A Warner Bros. Discovery Company. All Rights Reserved.CNN Sans ™ & © 2016 Cable News Network.', metadata={'entities': '{\"GPE\": [\"the United States of America\", \"Mali\", \"Niamey\", \"Niger\", \"the Russian Federation\", \"Nigerien\", \"Russia\", \"Iran\", \"China\", \"Western Africa\", \"US\", \"the United States\"], \"NORP\": [\"Russians\", \"Western\", \"Russian\", \"French\", \"European\", \"Agadez\", \"Nigerian\", \"American\", \"Islamist\"], \"PERSON\": [\"Michael Langley\", \"Amadou Abdramane\", \"Burkina Faso\", \"Matthew Miller\", \"Jama\\\\u2019at Nusrat al-Islam Wal-Musliminim\", \"Mali\", \"Sabrina Singh\", \"Niger\", \"Miller\", \"Nigerien\", \"Celeste Wallander\", \"Sahel\", \"Nigeriens\"], \"ORG\": [\"Kremlin\", \"CNSP.\\\\u201cWe\", \"CNN\", \"Cable News Network\", \"Defense Ministry\", \"US Africa Command\", \"AFRICOM\", \"Warner Bros. Discovery Company\", \"EU\", \"ISIS-Sahel\", \"Niger\", \"CNN.Part of the\", \"the National Council for Safeguarding the Homeland\", \"Department\", \"Langley\", \"Pentagon\"]}', 'source': 'CNN', 'summary': 'Niger has served as a crucial foothold for US counterterrorism operations in the region for nearly a decade. The US has cut off much of its military and foreign assistance to Niger following the coup. Russia and Niger agreed to strengthen their military ties in January, Russia’s Defense Ministry said. It is not yet clear whether the military junta in Niger will leave the country.'})]"
      ]
     },
     "execution_count": 15,
     "metadata": {},
     "output_type": "execute_result"
    }
   ],
   "source": [
    "vector_store.similarity_search(query, k=5)"
   ]
  },
  {
   "cell_type": "markdown",
   "id": "ead48340-496b-4a94-8709-780290278982",
   "metadata": {},
   "source": [
    "## Retriever with Chat History"
   ]
  },
  {
   "cell_type": "code",
   "execution_count": 23,
   "id": "ca3757ec-ca76-424f-94b7-5e5f9abc344a",
   "metadata": {},
   "outputs": [],
   "source": [
    "from langchain.prompts import MessagesPlaceholder, ChatPromptTemplate\n",
    "from langchain_community.chat_message_histories import ChatMessageHistory\n",
    "from langchain.chains.combine_documents import create_stuff_documents_chain\n",
    "from langchain.chains import create_retrieval_chain, create_history_aware_retriever"
   ]
  },
  {
   "cell_type": "code",
   "execution_count": 17,
   "id": "e13bbbeb-53b3-4516-b317-9a2b9604b4c8",
   "metadata": {},
   "outputs": [],
   "source": [
    "## Chat History retrieval prompt\n",
    "chat_history_system_prompt = \"\"\"Given a chat history and the latest user question \\\n",
    "which might reference context in the chat history, formulate a standalone question \\\n",
    "which can be understood without the chat history. Do NOT answer the question, \\\n",
    "just reformulate it if needed and otherwise return it as is.\"\"\""
   ]
  },
  {
   "cell_type": "code",
   "execution_count": 18,
   "id": "4fc70ee7-bedc-43f2-858f-a53eec00a129",
   "metadata": {},
   "outputs": [],
   "source": [
    "chat_history_context_prompt = ChatPromptTemplate.from_messages(\n",
    "    [('system', chat_history_system_prompt),\n",
    "     MessagesPlaceholder('chat_history'),\n",
    "     ('human', '{input}'),\n",
    "    ]\n",
    ")"
   ]
  },
  {
   "cell_type": "code",
   "execution_count": null,
   "id": "6983b4e9-8437-490e-ab50-ef4ea2c9706d",
   "metadata": {},
   "outputs": [],
   "source": [
    "history_aware_retriever = create_history_aware_retriever(llm_pipeline, retriever, chat_history_context_prompt)"
   ]
  },
  {
   "cell_type": "code",
   "execution_count": 22,
   "id": "ec9c943f-7016-4118-804b-5b36c0c257d2",
   "metadata": {},
   "outputs": [],
   "source": [
    "## New question/answer prompt\n",
    "chat_prompt = ChatPromptTemplate.from_messages(\n",
    "    [('system', prompt_template),\n",
    "     MessagesPlaceholder('chat_history'),\n",
    "     ('human', '{input}')\n",
    "    ]\n",
    ")"
   ]
  },
  {
   "cell_type": "code",
   "execution_count": null,
   "id": "2c446f8b-e8e0-4f22-8b50-36748c55219b",
   "metadata": {},
   "outputs": [],
   "source": [
    "question_answer_chain = create_stuff_documents_chain(llm_pipeline, chat_prompt)"
   ]
  },
  {
   "cell_type": "code",
   "execution_count": null,
   "id": "8914d6fd-f41d-41a0-9904-e7dd75ff67fc",
   "metadata": {},
   "outputs": [],
   "source": [
    "rag_chain = create_retrieval_chain(history_aware_retriever, question_answer_chain)"
   ]
  },
  {
   "cell_type": "code",
   "execution_count": null,
   "id": "01a11f61-4237-45bb-8399-554b11e54bad",
   "metadata": {},
   "outputs": [],
   "source": []
  },
  {
   "cell_type": "code",
   "execution_count": null,
   "id": "be2cb989-bbf6-4895-930e-7bc264d44046",
   "metadata": {},
   "outputs": [],
   "source": []
  },
  {
   "cell_type": "code",
   "execution_count": null,
   "id": "4d3fa47a-c407-4ed0-a506-8d3247a28a8e",
   "metadata": {},
   "outputs": [],
   "source": []
  }
 ],
 "metadata": {
  "kernelspec": {
   "display_name": "USElectionsGPT",
   "language": "python",
   "name": "uselectionsgpt"
  },
  "language_info": {
   "codemirror_mode": {
    "name": "ipython",
    "version": 3
   },
   "file_extension": ".py",
   "mimetype": "text/x-python",
   "name": "python",
   "nbconvert_exporter": "python",
   "pygments_lexer": "ipython3",
   "version": "3.9.6"
  }
 },
 "nbformat": 4,
 "nbformat_minor": 5
}
