{
 "cells": [
  {
   "cell_type": "markdown",
   "id": "677b54c0-5098-4876-ae3a-cd41292612b6",
   "metadata": {},
   "source": [
    "# Mistral Quantization and Finetuning"
   ]
  },
  {
   "cell_type": "code",
   "execution_count": 27,
   "id": "417069b5-b003-43ed-950a-d4eac89918ff",
   "metadata": {},
   "outputs": [
    {
     "name": "stderr",
     "output_type": "stream",
     "text": [
      "huggingface/tokenizers: The current process just got forked, after parallelism has already been used. Disabling parallelism to avoid deadlocks...\n",
      "To disable this warning, you can either:\n",
      "\t- Avoid using `tokenizers` before the fork if possible\n",
      "\t- Explicitly set the environment variable TOKENIZERS_PARALLELISM=(true | false)\n",
      "huggingface/tokenizers: The current process just got forked, after parallelism has already been used. Disabling parallelism to avoid deadlocks...\n",
      "To disable this warning, you can either:\n",
      "\t- Avoid using `tokenizers` before the fork if possible\n",
      "\t- Explicitly set the environment variable TOKENIZERS_PARALLELISM=(true | false)\n"
     ]
    }
   ],
   "source": [
    "!pip install -q accelerate\n",
    "!pip install -qi https://pypi.org/simple/ bitsandbytes"
   ]
  },
  {
   "cell_type": "code",
   "execution_count": 28,
   "id": "a94f25a5-03c2-490a-96d7-c03606eaf730",
   "metadata": {},
   "outputs": [],
   "source": [
    "import torch\n",
    "from transformers import AutoTokenizer, BitsAndBytesConfig, AutoModelForCausalLM"
   ]
  },
  {
   "cell_type": "code",
   "execution_count": 29,
   "id": "47e9ba5e-9f6e-4c62-a8b1-a251781ebad7",
   "metadata": {},
   "outputs": [],
   "source": [
    "model_name = 'mistralai/Mistral-7B-Instruct-v0.2'"
   ]
  },
  {
   "cell_type": "code",
   "execution_count": 30,
   "id": "1c4c7ae3-4a9b-4efe-9a56-b31059d0644d",
   "metadata": {},
   "outputs": [],
   "source": [
    "tokenizer = AutoTokenizer.from_pretrained(model_name)\n",
    "tokenizer.padding_side = 'right'\n",
    "tokenizer.pad_token = tokenizer.eos_token"
   ]
  },
  {
   "cell_type": "markdown",
   "id": "c236ed2e-5343-460b-b8b8-4f9cde384fa3",
   "metadata": {},
   "source": [
    "## Quantization\n",
    "Quantization is done reduce memory footprint and perform faster inference while still retaining acceptable model performance. For this quantization, we will use bitandbytes"
   ]
  },
  {
   "cell_type": "code",
   "execution_count": 32,
   "id": "d06f522b-4aac-4995-8674-fb167ff722e0",
   "metadata": {},
   "outputs": [],
   "source": [
    "# Use 4 bit compute \n",
    "use_4bit = True\n",
    "\n",
    "# compute dtype for 4-bit models\n",
    "compute_dtype = \"float16\"\n",
    "\n",
    "# quantization type\n",
    "quantization_type = 'nf4'\n",
    "\n",
    "# use double quantization\n",
    "use_nested_quant = False"
   ]
  },
  {
   "cell_type": "code",
   "execution_count": 33,
   "id": "b9d94a9c-289d-492b-8574-527927e276c4",
   "metadata": {},
   "outputs": [],
   "source": [
    "bnb_compute_dtype = getattr(torch, compute_dtype)\n",
    "\n",
    "quantization_config = BitsAndBytesConfig(\n",
    "    load_in_4bit=use_4bit,\n",
    "    bnb_4bit_quant_type=quantization_type,\n",
    "    bnb_4bit_compute_dtype=bnb_compute_dtype,\n",
    "    bnb_4bit_use_double_quant=use_nested_quant,\n",
    ")"
   ]
  },
  {
   "cell_type": "code",
   "execution_count": null,
   "id": "1de3ad33-0fd8-458b-8853-282ee3c0fb75",
   "metadata": {},
   "outputs": [],
   "source": [
    "model = AutoModelForCausalLM.from_pretrained(\n",
    "    model_name,\n",
    "    quantization_config=quantization_config,\n",
    ")"
   ]
  },
  {
   "cell_type": "code",
   "execution_count": null,
   "id": "320122ca-fefe-4545-a3c8-78c2885a0d3e",
   "metadata": {},
   "outputs": [],
   "source": [
    "chat_input = tokenizer.encode_plus(\"[INST] Was Vivek Ramaswamy running for president ? [/INST]\", return_tensors=\"pt\")['input_ids'].to('cuda')\n",
    "\n",
    "generated_ids = model.generate(chat_input, \n",
    "                               max_new_tokens=1000, \n",
    "                               do_sample=True, \n",
    "                               pad_token_id=tokenizer.eos_token_id)\n",
    "decoded = tokenizer.batch_decode(generated_ids)"
   ]
  },
  {
   "cell_type": "markdown",
   "id": "facb87b2-97f9-4b3c-b1d0-f8660945f292",
   "metadata": {},
   "source": [
    "## Langchain And Prompt Engineering"
   ]
  },
  {
   "cell_type": "code",
   "execution_count": null,
   "id": "530c6c81-6473-4140-b52c-9a2cf2000e88",
   "metadata": {},
   "outputs": [],
   "source": [
    "!pip install -q langchain"
   ]
  },
  {
   "cell_type": "code",
   "execution_count": 35,
   "id": "cb06188e-dde7-44cb-bd17-17f7b75ccdc2",
   "metadata": {},
   "outputs": [],
   "source": [
    "from langchain import LLMChain\n",
    "from langchain.llms import HuggingFacePipeline\n",
    "from langchain.prompts import PromptTemplate\n",
    "from transformers import pipeline\n",
    "from langchain.embeddings.huggingface import HuggingFaceEmbeddings"
   ]
  },
  {
   "cell_type": "code",
   "execution_count": null,
   "id": "2acc4944-e8cc-4ede-9766-d7c84c0b4a31",
   "metadata": {},
   "outputs": [],
   "source": [
    "text_generation_pipeline = pipeline(\n",
    "    model=model,\n",
    "    tokenizer=tokenizer,\n",
    "    task='text-generation',\n",
    "    temperature=0.2,\n",
    "    repetition_penalty=1.1,\n",
    "    return_full_text=True,\n",
    "    max_new_tokens=1000\n",
    ")"
   ]
  },
  {
   "cell_type": "code",
   "execution_count": null,
   "id": "56dd0a4e-12f7-4c37-a774-7502e58faa77",
   "metadata": {},
   "outputs": [],
   "source": [
    "prompt_template = \"\"\"\n",
    "### [INST]\n",
    "Instruction: You are an expert political analyst with vast knowledge of the United States electoral process. You answer questions with \n",
    "certainty and you do not hallucinate. When unsure, you politely reply that you do not have  Using this knowledge, answer the following questions.\n",
    "Here is a context to help:\n",
    "\n",
    "{context}\n",
    "\n",
    "### QUESTION:\n",
    "{question}\n",
    "\n",
    "[/INST]\n",
    "\"\"\""
   ]
  },
  {
   "cell_type": "code",
   "execution_count": null,
   "id": "7384413a-41f6-468a-b455-ac9f146cfbf7",
   "metadata": {},
   "outputs": [],
   "source": [
    "llm_pipeline = HuggingFacePipeline(pipeline=text_generation_pipeline)"
   ]
  },
  {
   "cell_type": "code",
   "execution_count": null,
   "id": "96537401-5143-4e91-9bbe-86a48fe2844c",
   "metadata": {},
   "outputs": [],
   "source": [
    "prompt = PromptTemplate(\n",
    "    input_variables=['context', 'question']\n",
    "    template=prompt_template\n",
    ")"
   ]
  },
  {
   "cell_type": "code",
   "execution_count": null,
   "id": "f91def7c-eb7a-410e-afea-3d7e178113b1",
   "metadata": {},
   "outputs": [],
   "source": [
    "llm_chain = LLMChain(llm=llm_pipeline, prompt=prompt)"
   ]
  },
  {
   "cell_type": "code",
   "execution_count": null,
   "id": "4fe27046-037a-47c9-883f-42c9cce7f6ce",
   "metadata": {},
   "outputs": [],
   "source": [
    "context = \"\"\"\n",
    "Vivek Ramaswamy, the multi-millionaire biotech entrepreneur and self-described intellectual godfather of the anti-woke movement, announced on Tuesday that he is running for president.\n",
    "“We are in the middle of a national identity crisis,” he declared in an online video launching his campaign, offering that the current political climate constituted a form of “psychological slavery.”\n",
    "Speaking straight to the camera, with an American flag draped in the background and a flag pin on his lapel, Ramaswamy framed his campaign as a broad counteroffensive to what he called the “woke left” — describing it as a threat to open speech, the free exchanging of ideas and American exceptionalism itself.\n",
    "Ramaswamy is the third high-profile candidate to declare for the presidency in 2024. Though he filed forms with the FEC declaring he would be running on the Republican side of the aisle, his announcement video made no mention of the party itself — an indication that he hopes to frame his candidacy as outside the conventional political framework.\n",
    "He has already done barnstorming in early nominating states, including Iowa, where he was well received even as some of the state’s political bigwigs professed to not having familiarity with the planks on which he was running.\n",
    "Ramaswamy made his fortune in biotech investing, but he is best known for his appearances on Fox News and for the New York Times bestselling book he has written.\n",
    "While his chances of securing the nomination are certainly long, Ramaswamy’s entry into the contest was greeted with a traditional flare from opposition Democrats. Shortly after he appeared on Fox News to elaborate on his decision to run, the Democratic National Committee sent out a statement.\n",
    "“As Vivek Ramaswamy uses Tucker Carlson’s show to announce his campaign for president, one thing is clear: The race for the MAGA base is getting messier and more crowded by the day,” it read. “Over the next few months, Republicans are guaranteed to take exceedingly extreme positions on everything from banning abortion to cutting Social Security and Medicare and we look forward to continuing to ensure every American knows just how extreme the MAGA agenda is.”\n",
    "\"\"\""
   ]
  },
  {
   "cell_type": "code",
   "execution_count": null,
   "id": "151a486b-3543-4ba7-bf9b-01f3d0dc52b0",
   "metadata": {},
   "outputs": [],
   "source": [
    "llm_chain.invoke({\"context\": context,\n",
    "                 \"question\": \"Was Vivek Ramaswamy running for president in the 2024 general election ?\"})"
   ]
  },
  {
   "cell_type": "markdown",
   "id": "dbecf6cd-649b-42da-bf65-8313929857f0",
   "metadata": {},
   "source": [
    "## Langchain and Chroma DB"
   ]
  },
  {
   "cell_type": "code",
   "execution_count": 37,
   "id": "8fdcb0bc-07c0-4545-ab13-08a7853fe0cd",
   "metadata": {},
   "outputs": [],
   "source": [
    "from langchain.vectorstores import Chroma\n",
    "from langchain.embeddings import HuggingFaceEmbeddings"
   ]
  },
  {
   "cell_type": "code",
   "execution_count": 43,
   "id": "f8ddb46a-ffbf-4cbc-a7a3-50fda77d90ea",
   "metadata": {},
   "outputs": [],
   "source": [
    "from chromadb import HttpClient\n",
    "chroma_client = HttpClient()"
   ]
  },
  {
   "cell_type": "code",
   "execution_count": 47,
   "id": "af328c7b-0379-4685-92e1-7866bbe4840e",
   "metadata": {},
   "outputs": [],
   "source": [
    "vector_store = Chroma(client=chroma_client, \n",
    "                      embedding_function=HuggingFaceEmbeddings(model_name=\"all-MiniLM-L6-v2\"), \n",
    "                      collection_name='us-election-gpt')"
   ]
  },
  {
   "cell_type": "code",
   "execution_count": 48,
   "id": "859468b1-b944-4195-a0dc-dbe1383f4f8a",
   "metadata": {},
   "outputs": [
    {
     "data": {
      "text/plain": [
       "VectorStoreRetriever(tags=['Chroma', 'HuggingFaceEmbeddings'], vectorstore=<langchain_community.vectorstores.chroma.Chroma object at 0x1364f8220>)"
      ]
     },
     "execution_count": 48,
     "metadata": {},
     "output_type": "execute_result"
    }
   ],
   "source": [
    "vector_store.as_retriever()"
   ]
  },
  {
   "cell_type": "code",
   "execution_count": 49,
   "id": "61a91bcf-5050-41ac-975c-e263f77cef8b",
   "metadata": {},
   "outputs": [],
   "source": [
    "query = 'What is Donald Trump up to lately?'\n",
    "query_embedding = tokenizer(query)"
   ]
  },
  {
   "cell_type": "code",
   "execution_count": 50,
   "id": "74dba8d0-4c81-4cff-a366-0c8f8b4298b8",
   "metadata": {},
   "outputs": [
    {
     "data": {
      "text/plain": [
       "[Document(page_content='Former President Donald Trump continues to make false claims about the New York civil fraud case he lost – including a wildly inaccurate declaration on Tuesday that an appeals court previously said that he had “won the case.”Trump has made similar claims for. He delivered an especially unequivocal version at a Tuesday campaign rally in Wisconsin, the day after heto prevent New York Attorney General Letitia James from beginning to collect on Judge Arthur Engoron’s $454 million judgment against him.Trump said: “The Appellate Division actually gave me the case. I won the case, because I won it in the Appellate Division. …I won the case because it’s called statute of limitations. The Appellate Division ruled in my favor. That means most of the case is gone; the judge refused to honor it. Now, he – nobody ever heard of that before. So the Appellate Division said, ‘You won the case, that’s it,’ and the judge said, ‘I don’t accept it.’ He’s called a rogue judge. He’s a rogue judge; he’s a fake judge.”Trump is entitled to argue that Engoron wrongly applied the appeals court’s language about the statute of limitations; he hasof Engoron’s judgment, and it’s always possible he will win. But the appeals court’s 2023 ruling simply did not say what he keeps saying it did.Trump’s assertion that the appeals court said, “You won the case, that’s it,” and Engoron said, “I don’t accept it” creates an impression of a judge who refuse to heed the open-and-shut words of a higher court. But that’s not at all what happened.Rather, Engoron was tasked with interpreting what the appeals court meant when it barred any claims concerning transactions that were “completed” before July 13, 2014, for defendants covered by the “” signed in 2021 by Trump Organization chief legal officer Alan Garten. (A tolling agreement temporarily pauses the statute of limitations so the parties can try to work out a settlement. The cutoff date would’ve been February 6, 2016, for any defendants Engoron decided weren’t covered by the agreement.)Trump’s lawyers argued to Engoron that transactions should be considered “completed” when loan agreements were entered into and the money was disbursed, even if financial statements were later sent to the lenders as required by the loan deals. But Engoron rejected that argument in the September 2023 ruling in which he–, “Obviously, the transactions were not ‘completed’ while the defendants were still obligated to, and did, annually submit current SFCs [Statements of Financial Condition] to comply with the terms of the loan agreements.”James’ office, Engoron wrote, “is not challenging the loans, the closings, or the disbursements; it is challenging defendants’ submissions of financial documents containing false and misleading information. Thus, any SFC that was submitted after July 13, 2014, falls within the applicable statute of limitations.” He wrote that “each submission of an SFC after July 13, 2014, constituted a separate fraudulent act.”Engoron addressed the matter again on the second day of the trial in October 2023. He said: “The general rule is that a claim accrues when someone can sue on it. Here, the attorney general is suing over the use of false financial statements in business, not over the underlying deals themselves. Obviously, she could not have sued on those statements until defendants issued them. Every use of a false financial statement in business starts the statute of limitations running, again, no matter when the transaction out of which [it] arose, closed.”Trump’s false assertions about the appeals court ruling have been corrected before, both by theand by Engoron himself.After Trump wronglyto reporters, following the first day of the trial, that “about 80% of the case is over” because of the appeals court ruling, Engoron said in court the next day: “This case arrived at the App. Div., as we call it, with seven causes of action. It left with seven causes of action. It arrived with 16 defendants. It left with 15 defendants. It arrived at the Appellate Division with a six-year statute of limitations. It left with a six-year statute of limitations, extended by both Covid tolling, and a tolling agreement. I understand that the defendants strongly disagree with this, and will appeal, in part, on this ground.”© 2024 Cable News Network. A Warner Bros. Discovery Company. All Rights Reserved.CNN Sans ™ & © 2016 Cable News Network.', metadata={'entities': '{\"PERSON\": [\"Covid\", \"wronglyto\", \"Engoron\", \"Donald Trump\", \"Arthur Engoron\", \"Letitia James\", \"Alan Garten\"], \"GPE\": [\"Wisconsin\", \"New York\"], \"ORG\": [\"CNN\", \"Trump Organization\", \"the Appellate Division\", \"Cable News Network\", \"Engoron\", \"Warner Bros. Discovery Company\", \"Trump\", \"The Appellate Division\"]}', 'source': 'CNN', 'summary': 'Former President Donald Trump continues to make false claims about the New York civil fraud case he lost. Trump said on Tuesday that an appeals court previously said that he had “won the case.” Trump is entitled to argue that Judge Arthur Engoron wrongly applied the appeals court’s language.'}),\n",
       " Document(page_content='Follow:Alabama Sen. Katie Britt on Sunday acknowledged that the graphic anecdote she employed to criticize President Joe Biden’s border policies didn’t occur during his presidency.During theto theon Thursday, Britt described a woman’s story of being “sex trafficked by the cartels starting at age 12” before saying, “President Biden’s border crisis is a disgrace. It’s despicable. And it’s almost entirely preventable.”Asked by Fox News’ Shannon Bream on Sunday whether she meant to give the impression that the story had taken place during Biden’s time in office, Britt responded: “No, Shannon,” before criticizing the president’s border policies.“I very clearly said I spoke to a woman who told me about when she was trafficked when she was 12. So I didn’t say a teenager, I didn’t say a young woman, a grown woman. A woman, when she was trafficked, when she was 12,” Britt said.on Friday, freelancetracked down what appears to be the story Britt referenced and found that it happened in Mexico in the mid-2000s.Katz citedfrom Sen. Marsha Blackburn, who, along with Sens. Britt and Cindy Hyde-Smith, went to Eagle Pass, Texas, in January 2023 – shortly after Britt took office – to hear from Karla Jacinto, a human trafficking survivor, among others.“The Senators learned about cartel activity in Mexico and the work being done to rescue victims of human trafficking,” the press release said.Jacinto has shared her story publicly, includingon sex trafficking held by the House Foreign Affairs Subcommittee on Global Human Rights. Through a translator, she said that for four years, starting from the age of 12, she was “emotionally and sexually violated time and time again.” She explained how, at age 16, she was able to escape to a shelter and “grow into the activist” she became.Jacinto told CNN on Sunday that she was trafficked before Biden’s presidency and said legislators lack empathy when using the issue of human trafficking for political purposes.“I hardly ever cooperate with politicians, because it seems to me that they only want an image. They only want a photo — and that to me is not fair,” she told CNN’s Rafael Romo.CNN reached out to the senator’s office seeking comment Sunday.Britt has previously referenced the story she gave Thursday – including on Capitol Hill on September 27, 2023, according to herWhite House spokesman Andrew Bates told CNN in a statement Sunday, “Instead of telling more debunked lies to justify opposing the toughest bipartisan border legislation in modern history, Senator Britt should stop choosing human smugglers and fentanyl traffickers over our national security and the Border Patrol Union.”Senate Republicans last monthand foreign aid package that would have enacted restrictive border measures amid a torrent of attacks on the bill by former President Donald Trump and top House Republicans.CNN’s Rafael Romo contributed to this story.© 2024 Cable News Network. A Warner Bros. Discovery Company. All Rights Reserved.CNN Sans ™ & © 2016 Cable News Network.', metadata={'entities': '{\"GPE\": [\"Texas\", \"Alabama\", \"Mexico\", \"Jacinto\"], \"PERSON\": [\"Karla Jacinto\", \"Marsha Blackburn\", \"Joe Biden\", \"Katz\", \"Katie Britt\", \"Biden\", \"Britt\", \"Rafael Romo\", \"Donald Trump\", \"Cindy Hyde-Smith\", \"Andrew Bates\"], \"ORG\": [\"herWhite House\", \"CNN\", \"Cable News Network\", \"House\", \"Eagle Pass\", \"the House Foreign Affairs Subcommittee on Global Human Rights\", \"Fox News\", \"Warner Bros. Discovery Company\", \"includingon\", \"the Border Patrol Union\"], \"NORP\": [\"Republicans\"]}', 'source': 'CNN', 'summary': 'Alabama Sen. Katie Britt used a graphic anecdote to criticize President Joe Biden’s border policies. Britt: “I very clearly said I spoke to a woman who told me about when she was trafficked when I was 12.” Britt has previously referenced the story she gave Thursday – including on Capitol Hill in September 2023.'}),\n",
       " Document(page_content='Former Presidenton Monday suggested he was open to making cuts to Social Security and Medicare after opposing touching the entitlement programs and attacking his GOP presidential primary rivals over the issue.Trump was asked inwhether he had changed his outlook on how to handle entitlement programs like Social Security, Medicare and Medicaid in order to tackle the national debt.“There is a lot you can do in terms of entitlements, in terms of cutting and in terms of also the theft and the bad management of entitlements,” Trump said on CNBC’s “Squawk Box.”He added: “There’s tremendous amounts of things and numbers of things you can do.”Following the interview, President Joe Biden responded to a clip his campaign made of Trump’s comments: “Not on my watch.”Trump campaign spokeswoman Karoline Leavitt later told CNN that Trump was “clearly talking about cutting waste, not entitlements.”“President Trump delivered on his promise to protect Social Security and Medicare in his first term, and President Trump will continue to strongly protect Social Security and Medicare in his second term,” said Leavitt, who argued: “The only candidate who poses a threat to Social Security and Medicare is Joe Biden.”“By unleashing American energy, slashing job-killing regulations, and adopting pro-growth America First tax and trade policies, President Trump will quickly rebuild the greatest economy in history and put Social Security and Medicare on a stronger footing for generations to come,” Leavitt said.When Trump was president, his administration’s budget proposals included spending cuts to Social Security, primarily by targeting disability benefits, and Medicare, largely by reducing provider payments. Trump also signaled in an interview with CNBC in 2020 that he was open to cutting federal entitlements to reduce the federal deficit.But Trump has vowed repeatedly on the campaign trail this election cycle to “always defend Medicare and Social Security,” and has a video posted to his campaign website in which he says, “Under no circumstances should Republicans vote to cut a single penny from Medicare or Social Security.”“We don’t have to play around with Social Security and Medicare,” Trump said at a campaign rally in Michigan last month.Trump also fiercely attacked former GOP rival Nikki Haley on the campaign trail over her support for reforming these entitlement programs. Haley called for increasing the age at which today’s younger workers would become eligible for Social Security retirement benefits and limiting the benefits of wealthier Americans. Trump also regularly took aim at Florida Gov. Ron DeSantis over his past support of privatizing Social Security and raising the retirement age – positions the governor distanced himself from during his failed presidential bid.The Biden administration has sought to contrast the president’s support of Social Security and Medicare with Republicans’ proposals to address shortfalls in the programs’ finances. In his State of the Union address last week, Biden said he would stop anyone who tries to cut the programs or raise the retirement age.Without any changes,are set to run dry in 2034, at which time the program’s continuing income from taxes will only be able to cover 80% of benefits owed, according the most recent Social Security trustees report.Medicare’s hospital insurance trust fund, known as Medicare Part A, will only be able to pay scheduled benefits in full until 2031, according to the latest Medicare trustees’ annual report. At that time, Medicare, which covers nearly 67 million senior citizens and people with disabilities, will only be able to cover 89% of total scheduled benefits.Two factors driving the projected rise in deficits are the aging population and the growth in federal health care costs, which will necessitate greater spending on Social Security and Medicare, according to the Congressional Budget Office.Trump has been more open to cutting Medicaid enrollment and reducing federal funding for the program, which provides health coverage to low-income Americans. His administration approved requests from several states to require certain enrollees to work, which resulted in thousands of people losing coverage in Arkansas, the only state that implemented it for a short time before being stopped in federal court.And as part of the 2017 efforts to repeal and replace the Affordable Care Act, Republicans wanted to curtail the amount offor Medicaid by sending a fixed amount of money to the states each year and reducing the growth rate of that funding. Additionally, they wanted to jettison the Obamacare program that expands Medicaid coverage to low-income adults.Also in the Monday interview with CNBC, Trump said it was a “tough decision” on whether the US should ban TikTok and argued getting rid of the app would benefit Facebook.“The thing I don’t like is that without TikTok, you can make Facebook bigger, and I consider Facebook to be an enemy of the people along with a lot of the media,” Trump said, adding he thought “Facebook has been very bad for our country, especially when it comes to elections.”Trump said he thought TikTok posed a national security threat to the US but said “you have that problem with Facebook and lots of other companies too,” and said, “there are a lot of people on TikTok that love it.”“There’s, you know, a lot of good, and there’s a lot of bad with TikTok,” Trump said.His comments come days after a House committee unanimously advanced a bill that could lead to a nationwide ban against TikTok on all electronic devices. The measure, which was approved by the House Energy and Commerce Committee, would prohibit TikTok from US app stores unless the social media platform is quickly spun off from its China-linked parent company, ByteDance. TikTok is one of the world’s most popular social media apps and is used by roughly 170 million Americans.When Trump was president, he supported calls to ban the app, but has since appeared to have backed away from that stance. Trump was asked by CNBC about his change in position on TikTok and whether there was any connection to his recent meeting with Jeff Yass, a top GOP donor and major TikTok investor.Trump said he did not discuss TikTok with Yass, and said he met with Yass and his wife for only “a few minutes,” and that Yass “never mentioned TikTok.”Trump said when he was president, he wanted Congress to decide whether TikTok should be banned.“I was at the point where I could have gotten it done if I wanted to,” Trump said. “I sort of said, you guys decide, you make that decision because it’s a tough decision to make.”Trump also said in the Monday interview that imposing tariffs “gives you power in dealing with other countries,” and said, “I’m a big believer in tariffs.”“Tariffs are tremendously powerful in terms of stopping wars because they don’t want tariffs. And frankly, I can, I made them sing, I made other countries sing with the threat of tariffs. And if you don’t have tariffs, we have nothing whatsoever on them,” Trump said.Trump said last month he would consider imposing a tariff upward of 60% on all Chinese imports if he regains the presidency.As president, Trump imposed tariffs of 25% on $50 billion of Chinese goods in June 2018. Beijing countered with its own tariffs, and the spiral continued until the two countries arrived at an agreement in 2020. The Biden administration has largely kept the Trump-era tariffs in place.© 2024 Cable News Network. A Warner Bros. Discovery Company. All Rights Reserved.CNN Sans ™ & © 2016 Cable News Network.', metadata={'entities': '{\"ORG\": [\"CNN\", \"the House Energy and Commerce Committee\", \"Social Security\", \"CNBC\", \"Presidenton\", \"TikTok\", \"Warner Bros. Discovery Company\", \"Yass\", \"the Congressional Budget Office\", \"ByteDance\", \"Medicare\", \"Cable News Network\", \"Nikki Haley\", \"House\", \"America First\", \"GOP\", \"Medicaid\", \"Trump\", \"Congress\"], \"PERSON\": [\"Karoline Leavitt\", \"Jeff Yass\", \"jettison\", \"Joe Biden\", \"Leavitt\", \"Ron DeSantis\", \"Trump\", \"Biden\", \"Yass\", \"Haley\"], \"NORP\": [\"Republicans\", \"Americans\", \"American\", \"Chinese\", \"Obamacare\"], \"GPE\": [\"Arkansas\", \"Michigan\", \"Florida\", \"Beijing\", \"China\", \"US\"]}', 'source': 'CNN', 'summary': 'Trump was asked inwhether he had changed his outlook on how to handle entitlement programs like Social Security, Medicare and Medicaid in order to tackle the national debt. “There is a lot you can do in terms of entitlements,” Trump said. President Joe Biden responded to a clip his campaign made of Trump’s comments: “Not on my watch.”'}),\n",
       " Document(page_content='Ukraine’s shortage of ammunition and military equipment resulting from the US and its allies’ struggle to resupply the country’s military is having an increasingly dire effect, US and NATO officials are warning, as Russia intensifies its attacks on Kyiv’s dwindling air defenses knowing that they likely won’t be replenished anytime soon.The Ukrainian military is “experiencing shortages in air defense munitions, mostly in the medium to long range,” a NATO official said on Wednesday. “It’s not just that we know that. It’s that Russia knows that. So Russia is using drones and missiles in ways that are really explicitly designed to deplete Ukrainian air defense systems.”has been rationing its air defenses for about a month now, said another person familiar with western intelligence. The Ukrainians had limited systems to start with, including the US and German-provided Patriot systems around Kyiv, some S-200 and S-300 surface-to-air missile systems, and some older, retrofitted Soviet launchers that they have been using to fire western missiles like Sidewinders, this person said.NATO Secretary General Jens Stoltenberg called the battlefield situation for Ukraine “difficult” and “serious” on Thursday. He said that NATO foreign ministers who met this week in Brussels agreed to check their countries’ inventories to see if they have any additional air defense systems, particularly Patriots, that they can share with Ukraine.But Ukraine is running out of munitions for their air defense systems quickly, and the US will not be able to resupply them until the administration secures supplemental funding from Congress. Last fall, the administration asked Congress for more than $60 billion in additional funds to help support Ukraine, but more than 6 months later the funding has not passed amid opposition from Republican lawmakers.“There are things in the pipeline being procured, being produced, but not in a timeline over the next few months that would be sufficient for the gaps, because we don’t have the funding,” a senior defense official said last month.The official suggested that by now, the Ukrainians must be making “tough decisions” on where to prioritize their air defenses because of the dwindling supply. And the separate shortages of artillery ammunition could be “potentially catastrophic” for Ukraine in the short term, the official added.Russia, meanwhile, maintains a “significant quantitative advantage” over Ukraine in terms of munitions, manpower, and equipment, the NATO official said, and is likely recruiting roughly 30,000 additional personnel per month. Russia has continued a “gradual advance” west of Avdiivka over the last month, the official said, but it is continuing to build momentum and take advantage of the fact that Ukraine has fewer fixed, well-defended positions in urban areas.Ukrainian President Volodymyr Zelensky said last week that Ukraine has managed to “stabilize” the situation but predicted that Russia could launch a new major offensive by May or June that will be difficult to defeat without significantly ramped up western support.The NATO official said that as of now, Russia appears to lack the necessary maneuver units to mount such a large-scale, successful attack. US officials are growing increasingly concerned, however, that Ukraine’s frontline positions may not be resilient enough to fend off Russia’s ongoing advances, especially given their acute shortages of artillery ammunition.One significant breakthrough in the frontline could open the floodgates to a Russian onslaught, one US official warned, and it has been difficult to determine just how fortified the Ukrainian positions are right now.Russia has been able to make some “tactical” advances, the NATO official acknowledged, despite Ukraine’s attempts to fortify the frontline with anti-tank Dragon’s Teeth obstacles and ditches, infantry trenches, and minefields.“It’s still relatively small advances that are being made there” by the Russians, the official said. “But that doesn’t mean I’m not concerned at all because strategic advances are made up of a lot of tactical advances.”However, though the situation is dire, Ukraine has had some successes. Attacks on Russia’s energy sector have had a notable impact.Ukrainian drone strikes on Russian oil refineries using long-range drones are “imposing financial costs on Russia and impacting the domestic fuel market,” the NATO official said.The assessment is notable given that US officials have expressed misgivings over the Ukrainian attacks on Russian energy infrastructure, reiterating that the US does not encourage or enable Ukrainian strikes inside Russian territory.“We understand the calls of our American partners” to halt the attacks, Deputy Prime Minister Olha Stefanishyna said during remarks at a security forum in Kyiv last month. “At the same time, we are fighting with the capabilities, resources and practices that are available to us today.”The NATO official said the attacks on the refineries are having a “significant” impact, disrupting as much as 15% of Russia’s refinery capacity. Rebuilding that capacity will likely take “considerable time and expense,” the official said.As a result of the Ukrainian strikes, Russia has had to significantly increase its gasoline imports from Belarus and has even imposed a 6-month ban on exports in order to stabilize domestic prices, the official said.“We are seeing fewer and fewer of these types of Russian energy critical infrastructures that are safe from potential strikes, and a greater and greater impact on the Russian economy,” the official said.US and western officials broadly recognize, however, that while it is possible the Russians manage to pull off a battlefield upset, the prospects for a significant breakthrough on either side of the war this year are low. That is why they believe it is critical for the west to continue to support Ukraine through this period of attrition.To that end, Stoltenberg is considering a range of options to shore up long-term support for Ukraine, including establishing a fund of $100 billion over five years from the alliance members, CNN reported on Wednesday.While the fund would not be large enough to support Ukraine’s war effort against Russia indefinitely, it would give the country a base of support that NATO officials view as vital as allies worry about Donald Trump securing a second term in November that could mean the US will be unwilling to provide any more support to Kyiv.One of the other ideas under consideration includes NATO taking over the leadership of the Pentagon- led Ukraine Contact Defense Group, which is the central node coordinating the logistics of weapons deliveries into Ukraine.“Allies agreed to move forward with planning for a greater NATO role in coordinating necessary security assistance and training for Ukraine,” Stoltenberg said on Thursday.The secretary general detailed that it is necessary “to establish a stronger and more robust and more predictable framework for the long-term support” of Ukraine, so that the country is “less dependent on ad hoc, voluntary, short-term announcements.”CNN’s Kylie Atwood contributed reporting.© 2024 Cable News Network. A Warner Bros. Discovery Company. All Rights Reserved.CNN Sans ™ & © 2016 Cable News Network.', metadata={'entities': '{\"GPE\": [\"Stoltenberg\", \"Belarus\", \"Ukrainian\", \"Russia\", \"Ukraine\", \"Brussels\", \"US\"], \"ORG\": [\"Patriot\", \"Sidewinders\", \"CNN\", \"Cable News Network\", \"Warner Bros. Discovery Company\", \"Dragon\\\\u2019s Teeth\", \"Ukraine Contact Defense Group\", \"NATO\", \"Congress\", \"Patriots\"], \"PERSON\": [\"Stoltenberg\", \"Kylie Atwood\", \"Jens Stoltenberg\", \"Donald Trump\", \"Avdiivka\", \"Volodymyr Zelensky\", \"\\\\u201cIt\", \"Kyiv\", \"Olha Stefanishyna\", \"\\\\u201cWe\"], \"NORP\": [\"American\", \"Soviet\", \"Russians\", \"Republican\", \"German\", \"Russian\", \"Ukrainian\", \"Ukrainians\"]}', 'source': 'CNN', 'summary': 'NATO Secretary General Jens Stoltenberg called the battlefield situation for Ukraine “difficult’ and “serious” Ukraine is running out of munitions for their air defense systems quickly, and the US will not be able to resupply them until the administration secures supplemental funding from Congress.'}),\n",
       " Document(page_content='US Defense Secretary Lloyd Austin emphasized Tuesday that the US “will not let Ukraine fail,” as Congress continues to delay critical funding for Ukraine aid.Speaking in Germany at the 20th meeting of the Ukraine Defense Contact Group at Ramstein Air Base, Germany, Austin said Ukraine’s military continues “to degrade the Kremlin’s capabilities.”“Ukraine won’t back down, and neither will the United States,” said Austin, while seated next to Ukrainian Defense Minister Rustem Umerov. “So, our message today is clear: The United States will not let Ukraine fail. This coalition will not let Ukraine fail. And the free world will not let Ukraine fail.”A senior US defense official told reporters Friday that Ukraine is “heavily outgunned on the battlefield.”In the absence of the supplemental, the Pentagon announcedlast week due to financial savings from other US Army contracts. Austin called the package an “extraordinary measure,” and said the US and its allies would work together “to identify gaps, to manage cross-cutting needs, and to help Ukraine build a formidable future force.”A US defense official told CNN on Tuesday that aid from that $300 million package began arriving in Ukraine last week, the first tranche of which included artillery components.The visit to Germany is Austin’s first official trip abroad since his prostate cancer procedure in December. He participated in the last two contact groups virtually, after he wasdue to complications from his December procedure.CNN has previously reported that Russia is producing nearly three times more artillery munitions than the US and Europe — roughly 3 million a year, compared to the US and Europe’s estimated 1.2 million, according to a senior European intelligence official.“Russia’s output is 24/7. I mean, huge, immense,” a European lawmaker told CNN. “We should not underestimate their will to outlast us with patience, and with resilience.”Austin said during a press conference later on Tuesday that Russia has made “a series of incremental gains” against Ukraine, though they have come “at significant cost in terms of personnel and equipment.”Asked on Friday how long Ukraine might be able to keep up the fight against Russia without more US support, the official said it depended on a number of factors, including how Russia takes advantage of the situation.“But I do want to be clear,” the official said, “this is not a question of years, this is a question of weeks and months.”Still, Austin pointed to a number of stats demonstrating Russia’s losses. At least 315,000 Russian troops have been killed or wounded since February 2022, Austin said, and Russia “has squandered up to $211 billion to equip, deploy, maintain, and sustain its imperial aggression against Ukraine.” Austin also said the war would cost Russia $1.3 trillion “in previously anticipated economic growth through 2026.”“Ukraine has sunk, destroyed, or damaged some 20 medium-to-large Russian Navy vessels,” Austin said Tuesday. “And Ukraine continues to down Russian warplanes.”Austin reiterated later Tuesday at the press conference that his Ukrainian counterparts “feel confident in their ability to continue to defend their sovereign territory and hold the line.”“Of course, they need munitions,” he said, “they need support in order to be able to continue to do that.”The future of supplemental aid in Congress remains unclear. House Speaker Mike Johnson told Republican senators last week during their closed-door retreat that he was committed to finding a path ahead for Ukraine aid in the House of Representatives, a sign GOP senators took to mean that aid to the embattled country isn’t yet dead in Congress.Sen. Markwayne Mullin, a Republican from Oklahoma, told CNN that Johnson made clear “he understood the importance and the urgency of it and was looking for a path forward.”And officials have been blunt that the $300 million announced last week would not last Ukraine long. President Joe Biden said the package was “not nearly enough,” and national security adviser Jake Sullivan said it would provide Ukraine ammo to last maybe “a couple of weeks.”“Ukraine’s survival is on the line,” Austin said Tuesday. “And all of our security is on the line. So we will continue to stand together to resist Putin’s campaign of conquest, and we will continue to keep the faith with the people of Ukraine.”© 2024 Cable News Network. A Warner Bros. Discovery Company. All Rights Reserved.CNN Sans ™ & © 2016 Cable News Network.', metadata={'entities': '{\"GPE\": [\"The United States\", \"Oklahoma\", \"Austin\", \"Russia\", \"Germany\", \"Ukraine\", \"US\", \"the United States\"], \"ORG\": [\"Kremlin\", \"US Army\", \"CNN\", \"Cable News Network\", \"Russian Navy\", \"House\", \"\\\\u201cRussia\", \"the House of Representatives\", \"the Ukraine Defense Contact Group\", \"GOP\", \"Warner Bros. Discovery Company\", \"Defense\", \"Congress\", \"Pentagon\"], \"PERSON\": [\"Putin\", \"Joe Biden\", \"Johnson\", \"Austin\", \"Rustem Umerov\", \"Markwayne Mullin\", \"Lloyd Austin\", \"Mike Johnson\", \"Jake Sullivan\"], \"NORP\": [\"Russian\", \"Ukrainian\", \"European\", \"Republican\"]}', 'source': 'CNN', 'summary': 'US Defense Secretary Lloyd Austin says the US \"will not let Ukraine fail\" Congress continues to delay critical funding for Ukraine aid. A senior US defense official told reporters Friday that Ukraine is “heavily outgunned on the battlefield.” Austin says Russia has made “a series of incremental gains” against Ukraine.'})]"
      ]
     },
     "execution_count": 50,
     "metadata": {},
     "output_type": "execute_result"
    }
   ],
   "source": [
    "vector_store.similarity_search('What is Donald Trump up to lately', k=5)"
   ]
  },
  {
   "cell_type": "code",
   "execution_count": null,
   "id": "00b6b89e-e89d-4b6e-bba6-278999f1613d",
   "metadata": {},
   "outputs": [],
   "source": [
    "from langchain.llms import"
   ]
  },
  {
   "cell_type": "code",
   "execution_count": null,
   "id": "e13bbbeb-53b3-4516-b317-9a2b9604b4c8",
   "metadata": {},
   "outputs": [],
   "source": []
  },
  {
   "cell_type": "code",
   "execution_count": null,
   "id": "4fc70ee7-bedc-43f2-858f-a53eec00a129",
   "metadata": {},
   "outputs": [],
   "source": []
  },
  {
   "cell_type": "code",
   "execution_count": null,
   "id": "6983b4e9-8437-490e-ab50-ef4ea2c9706d",
   "metadata": {},
   "outputs": [],
   "source": []
  },
  {
   "cell_type": "code",
   "execution_count": null,
   "id": "ec9c943f-7016-4118-804b-5b36c0c257d2",
   "metadata": {},
   "outputs": [],
   "source": []
  },
  {
   "cell_type": "code",
   "execution_count": null,
   "id": "2c446f8b-e8e0-4f22-8b50-36748c55219b",
   "metadata": {},
   "outputs": [],
   "source": []
  },
  {
   "cell_type": "code",
   "execution_count": null,
   "id": "8914d6fd-f41d-41a0-9904-e7dd75ff67fc",
   "metadata": {},
   "outputs": [],
   "source": []
  },
  {
   "cell_type": "code",
   "execution_count": null,
   "id": "01a11f61-4237-45bb-8399-554b11e54bad",
   "metadata": {},
   "outputs": [],
   "source": []
  },
  {
   "cell_type": "code",
   "execution_count": null,
   "id": "be2cb989-bbf6-4895-930e-7bc264d44046",
   "metadata": {},
   "outputs": [],
   "source": []
  },
  {
   "cell_type": "code",
   "execution_count": null,
   "id": "4d3fa47a-c407-4ed0-a506-8d3247a28a8e",
   "metadata": {},
   "outputs": [],
   "source": []
  }
 ],
 "metadata": {
  "kernelspec": {
   "display_name": "USElectionsGPT",
   "language": "python",
   "name": "uselectionsgpt"
  },
  "language_info": {
   "codemirror_mode": {
    "name": "ipython",
    "version": 3
   },
   "file_extension": ".py",
   "mimetype": "text/x-python",
   "name": "python",
   "nbconvert_exporter": "python",
   "pygments_lexer": "ipython3",
   "version": "3.9.6"
  }
 },
 "nbformat": 4,
 "nbformat_minor": 5
}
