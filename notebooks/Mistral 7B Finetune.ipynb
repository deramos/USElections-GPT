{
 "cells": [
  {
   "cell_type": "markdown",
   "id": "677b54c0-5098-4876-ae3a-cd41292612b6",
   "metadata": {},
   "source": [
    "# Mistral Quantization and Finetuning"
   ]
  },
  {
   "cell_type": "code",
   "execution_count": 1,
   "id": "417069b5-b003-43ed-950a-d4eac89918ff",
   "metadata": {},
   "outputs": [],
   "source": [
    "!pip install -q accelerate\n",
    "!pip install -qi https://pypi.org/simple/ bitsandbytes"
   ]
  },
  {
   "cell_type": "code",
   "execution_count": null,
   "id": "a94f25a5-03c2-490a-96d7-c03606eaf730",
   "metadata": {},
   "outputs": [],
   "source": [
    "import torch\n",
    "from transformers import AutoTokenizer, BitsAndBytesConfig, AutoModelForCausalLM"
   ]
  },
  {
   "cell_type": "code",
   "execution_count": null,
   "id": "47e9ba5e-9f6e-4c62-a8b1-a251781ebad7",
   "metadata": {},
   "outputs": [],
   "source": [
    "model_name = 'mistralai/Mistral-7B-Instruct-v0.2'"
   ]
  },
  {
   "cell_type": "code",
   "execution_count": null,
   "id": "1c4c7ae3-4a9b-4efe-9a56-b31059d0644d",
   "metadata": {},
   "outputs": [],
   "source": [
    "tokenizer = AutoTokenizer.from_pretrained(model_name, trust_remote_code=True)\n",
    "tokenizer.padding_side = 'right'\n",
    "tokenizer.pad_token = tokenizer.eos_token"
   ]
  },
  {
   "cell_type": "markdown",
   "id": "c236ed2e-5343-460b-b8b8-4f9cde384fa3",
   "metadata": {},
   "source": [
    "## Quantization\n",
    "Quantization is done reduce memory footprint and perform faster inference while still retaining acceptable model performance. For this quantization, we will use bitandbytes"
   ]
  },
  {
   "cell_type": "code",
   "execution_count": null,
   "id": "d06f522b-4aac-4995-8674-fb167ff722e0",
   "metadata": {},
   "outputs": [],
   "source": [
    "# Use 4 bit compute \n",
    "use_4bit = True\n",
    "\n",
    "# compute dtype for 4-bit models\n",
    "compute_dtype = \"float16\"\n",
    "\n",
    "# quantization type\n",
    "quantization_dtype = 'nf4'\n",
    "\n",
    "# use double quantization\n",
    "use_nested_quant = False"
   ]
  },
  {
   "cell_type": "markdown",
   "id": "8be2bd63-7785-45a1-95c1-e81e376db5f5",
   "metadata": {},
   "source": [
    "### Quantization config"
   ]
  },
  {
   "cell_type": "code",
   "execution_count": null,
   "id": "b9d94a9c-289d-492b-8574-527927e276c4",
   "metadata": {},
   "outputs": [],
   "source": [
    "bnb_compute_dtype = getattr(torch, compute_dtype)\n",
    "\n",
    "quantization_config = BitsAndBytesConfig(\n",
    "    load_in_4bit=use_4bit,\n",
    "    bnb_4bit_quant_type=quantization_dtype,\n",
    "    bnb_4bit_compute_dtype=bnb_compute_dtype,\n",
    "    bnb_4bit_use_double_quant=use_nested_quant,\n",
    ")"
   ]
  },
  {
   "cell_type": "code",
   "execution_count": null,
   "id": "1de3ad33-0fd8-458b-8853-282ee3c0fb75",
   "metadata": {},
   "outputs": [],
   "source": [
    "model = AutoModelForCausalLM.from_pretrained(\n",
    "    model_name,\n",
    "    quantization_config=quantization_config,\n",
    ")"
   ]
  },
  {
   "cell_type": "code",
   "execution_count": null,
   "id": "320122ca-fefe-4545-a3c8-78c2885a0d3e",
   "metadata": {},
   "outputs": [],
   "source": []
  },
  {
   "cell_type": "code",
   "execution_count": null,
   "id": "30f48a7b-2649-4c86-aa35-ee3db8fc400d",
   "metadata": {},
   "outputs": [],
   "source": []
  }
 ],
 "metadata": {
  "kernelspec": {
   "display_name": "USElectionsGPT",
   "language": "python",
   "name": "uselectionsgpt"
  },
  "language_info": {
   "codemirror_mode": {
    "name": "ipython",
    "version": 3
   },
   "file_extension": ".py",
   "mimetype": "text/x-python",
   "name": "python",
   "nbconvert_exporter": "python",
   "pygments_lexer": "ipython3",
   "version": "3.9.6"
  }
 },
 "nbformat": 4,
 "nbformat_minor": 5
}
