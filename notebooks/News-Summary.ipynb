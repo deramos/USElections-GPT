{
 "cells": [
  {
   "cell_type": "markdown",
   "id": "814d98b1-5f48-44a5-a4b4-83aa5ca8be9c",
   "metadata": {},
   "source": [
    "# News Article Summarization. \n",
    "This notebook prepares news articles to be inserted into the ChromaDB vector database. First, it creates a summary of the news article, then it identifies important Named Entities such as the names of politicians, locations, and relevant dates. Having a news summary allows us to quickly perform small-to-big retrieval; finding the full article from it's brief overview. This method helps us evaluate the Language Learning Model (LLM) more effectively. Additionally, the identified entities will be used as metadata and embedded with the news articles, aiding in fine-tuning and evaluating the LLM.\n",
    "\n",
    "For more insight into this approach, check out this YouTube video by Jerry Liu, Founder of LlmamaIndex: https://youtu.be/TRjq7t2Ms5I."
   ]
  },
  {
   "cell_type": "markdown",
   "id": "0161c5e3-0925-4bac-b2f7-f71936c03665",
   "metadata": {},
   "source": [
    "## Config & Install Libraries\n",
    "Check if Huggingface transformers and required libraries are installed"
   ]
  },
  {
   "cell_type": "code",
   "execution_count": null,
   "id": "50daf810-a778-4ac6-b36e-04f51dfd9e37",
   "metadata": {},
   "outputs": [],
   "source": [
    "!pip install -q transformers sentencepiece sentence-transformers datasets spacy chromadb"
   ]
  },
  {
   "cell_type": "code",
   "execution_count": null,
   "id": "3bb674b7-f4c8-4a30-95d3-2545b512235f",
   "metadata": {},
   "outputs": [],
   "source": [
    "!python -m spacy download en_core_web_sm"
   ]
  },
  {
   "cell_type": "markdown",
   "id": "30fa7f79-1f93-4386-96b9-1fd0aa78fbbe",
   "metadata": {},
   "source": [
    "## News Summary Pipeline"
   ]
  },
  {
   "cell_type": "code",
   "execution_count": null,
   "id": "3d6caa0e-2aea-44e9-9379-5cc09090d583",
   "metadata": {
    "editable": true,
    "slideshow": {
     "slide_type": ""
    },
    "tags": []
   },
   "outputs": [],
   "source": [
    "import os\n",
    "import json\n",
    "from util import utils\n",
    "from pymongo import MongoClient\n",
    "from dotenv import load_dotenv, find_dotenv"
   ]
  },
  {
   "cell_type": "code",
   "execution_count": null,
   "id": "ba077d4f-7a01-433c-8251-ad0adab8b0e5",
   "metadata": {
    "editable": true,
    "slideshow": {
     "slide_type": ""
    },
    "tags": []
   },
   "outputs": [],
   "source": [
    "load_dotenv(find_dotenv())"
   ]
  },
  {
   "cell_type": "markdown",
   "id": "438a75d2-a614-4366-afaa-0d60ee7ea43f",
   "metadata": {
    "editable": true,
    "slideshow": {
     "slide_type": ""
    },
    "tags": []
   },
   "source": [
    "### Parameters"
   ]
  },
  {
   "cell_type": "code",
   "execution_count": null,
   "id": "97dd4511-4006-4dc6-a458-c3060c9ea212",
   "metadata": {
    "editable": true,
    "slideshow": {
     "slide_type": ""
    },
    "tags": [
     "parameters"
    ]
   },
   "outputs": [],
   "source": [
    "collection_name = 'raw-news'\n",
    "batch_date = {'$gte': '2024-06-04', '$lte': '2024-06-05'}"
   ]
  },
  {
   "cell_type": "code",
   "execution_count": null,
   "id": "85a090e1-9b4f-4787-a03b-d78fe0754547",
   "metadata": {
    "editable": true,
    "slideshow": {
     "slide_type": ""
    },
    "tags": []
   },
   "outputs": [],
   "source": [
    "MONGO_CONN_STRING = os.getenv(\"MONGO_CONNECTION_STRING\")\n",
    "DB_NAME = os.getenv(\"DB_NAME\")"
   ]
  },
  {
   "cell_type": "code",
   "execution_count": null,
   "id": "9bf02214-764f-404a-9401-44a273c876c6",
   "metadata": {
    "editable": true,
    "slideshow": {
     "slide_type": ""
    },
    "tags": []
   },
   "outputs": [],
   "source": [
    "mongo_client = MongoClient(MONGO_CONN_STRING)\n",
    "db = mongo_client.get_database(DB_NAME)"
   ]
  },
  {
   "cell_type": "markdown",
   "id": "5f6a3dda-cc27-4648-be12-f799485a38dc",
   "metadata": {
    "editable": true,
    "slideshow": {
     "slide_type": ""
    },
    "tags": []
   },
   "source": [
    "### Prepare Dataset"
   ]
  },
  {
   "cell_type": "code",
   "execution_count": null,
   "id": "8651a5f5-0a69-41d3-bb6e-fe5a4c9017e4",
   "metadata": {
    "editable": true,
    "slideshow": {
     "slide_type": ""
    },
    "tags": []
   },
   "outputs": [],
   "source": [
    "news_articles = json.loads(json.dumps(list(db.get_collection(collection_name).find({'created_at': batch_date})), cls=utils.CustomMongoDecoder))"
   ]
  },
  {
   "cell_type": "code",
   "execution_count": null,
   "id": "123e5e2e-1e8d-45a9-aa4c-5b350d3a3ccc",
   "metadata": {
    "editable": true,
    "slideshow": {
     "slide_type": ""
    },
    "tags": []
   },
   "outputs": [],
   "source": [
    "for article in news_articles:\n",
    "    article['processed_content'] = ''.join(art.strip() for art in article['raw_content'])\n",
    "    article['processed_content'] = article['processed_content'].replace('\\xa0', ' ')"
   ]
  },
  {
   "cell_type": "code",
   "execution_count": null,
   "id": "c406f39b-c14f-4318-a5cd-32a442dd2e85",
   "metadata": {},
   "outputs": [],
   "source": [
    "def split_text(text, max_length=1000, separator='\\n\\n'):\n",
    "    chunks = []\n",
    "    current_chunk = []\n",
    "    for line in text.split('.'):\n",
    "        if len('.'.join(current_chunk)) + len(line) < max_length:\n",
    "            current_chunk.append(line)\n",
    "        else:\n",
    "            chunks.append('.'.join(current_chunk))\n",
    "            current_chunk = [line]\n",
    "    if current_chunk:\n",
    "        chunks.append('.'.join(current_chunk))\n",
    "    return separator.join(chunks)"
   ]
  },
  {
   "cell_type": "code",
   "execution_count": null,
   "id": "f9b65c8c-63ef-46c3-b7a8-4aa0370bb06d",
   "metadata": {},
   "outputs": [],
   "source": [
    "split_text(article['processed_content'])"
   ]
  },
  {
   "cell_type": "markdown",
   "id": "90714437-0414-4872-bf02-8203d7fcd556",
   "metadata": {
    "editable": true,
    "slideshow": {
     "slide_type": ""
    },
    "tags": []
   },
   "source": [
    "## Load Summarization Model"
   ]
  },
  {
   "cell_type": "code",
   "execution_count": null,
   "id": "8e956a8a-041a-40db-ab2b-d58540010d2d",
   "metadata": {
    "editable": true,
    "slideshow": {
     "slide_type": ""
    },
    "tags": []
   },
   "outputs": [],
   "source": [
    "from transformers import BartTokenizer, BartForConditionalGeneration\n",
    "\n",
    "# Load fine-tuned BART model for summarization\n",
    "model_name = \"facebook/bart-large-cnn\"\n",
    "tokenizer = BartTokenizer.from_pretrained(model_name)\n",
    "model = BartForConditionalGeneration.from_pretrained(model_name)\n",
    "\n",
    "separator='\\n\\n'\n",
    "\n",
    "def summarize_article(text: str):\n",
    "    chunks = split_text(text, max_length=1000)\n",
    "    summaries = []\n",
    "    for chunk in chunks.split(separator):\n",
    "        inputs = tokenizer([chunk], return_tensors=\"pt\", truncation=True, max_length=1024)\n",
    "        summary_ids = model.generate(inputs.input_ids, num_beams=4, length_penalty=2.0, early_stopping=True)\n",
    "        summary = tokenizer.decode(summary_ids[0], skip_special_tokens=True)\n",
    "        summaries.append(summary)\n",
    "    return ' '.join(summaries)"
   ]
  },
  {
   "cell_type": "code",
   "execution_count": null,
   "id": "530a0eba-dba3-4bc3-9e88-cd2c2172e7ce",
   "metadata": {},
   "outputs": [],
   "source": [
    "sample_summary = summarize_article(article['processed_content'])"
   ]
  },
  {
   "cell_type": "code",
   "execution_count": null,
   "id": "b65188d9-1ed1-4fb2-b988-23cfd879a78c",
   "metadata": {},
   "outputs": [],
   "source": [
    "sample_summary"
   ]
  },
  {
   "cell_type": "markdown",
   "id": "0d05a060-9c35-4b9b-880c-80a1d191294f",
   "metadata": {
    "editable": true,
    "slideshow": {
     "slide_type": ""
    },
    "tags": []
   },
   "source": [
    "### Named Entity Recognition"
   ]
  },
  {
   "cell_type": "code",
   "execution_count": null,
   "id": "e0b10d8c-9895-47e5-9a3b-c183ca031c74",
   "metadata": {
    "editable": true,
    "slideshow": {
     "slide_type": ""
    },
    "tags": []
   },
   "outputs": [],
   "source": [
    "REQUIRED_FIELDS = ['PERSON', 'GPE', 'NORP', 'EVENT', 'ORG']"
   ]
  },
  {
   "cell_type": "code",
   "execution_count": null,
   "id": "8dcddf58-cf04-4582-8237-bbb6f65aa923",
   "metadata": {
    "editable": true,
    "slideshow": {
     "slide_type": ""
    },
    "tags": []
   },
   "outputs": [],
   "source": [
    "import spacy\n",
    "from collections import defaultdict\n",
    "\n",
    "def perform_ner(text: str):\n",
    "    \n",
    "    # Load the English language model\n",
    "    nlp = spacy.load(\"en_core_web_sm\")\n",
    "    \n",
    "    # Process the text with spaCy\n",
    "    doc = nlp(text)\n",
    "    \n",
    "    # Extract named entities\n",
    "    entities = [(ent.text, ent.label_) for ent in doc.ents]\n",
    "\n",
    "    return entities"
   ]
  },
  {
   "cell_type": "code",
   "execution_count": null,
   "id": "a9c52348-6302-446c-a5a2-914a30f3414d",
   "metadata": {
    "editable": true,
    "slideshow": {
     "slide_type": ""
    },
    "tags": []
   },
   "outputs": [],
   "source": [
    "# postprocess the named entities to select the required entity tags\n",
    "def postprocess_entities(entities):\n",
    "    processed_entities = defaultdict(set)\n",
    "    \n",
    "    for entity, label in entities:\n",
    "        if label in REQUIRED_FIELDS:\n",
    "            processed_entities[label].add(entity)\n",
    "    processed_entities = {key: list(value) for key, value in processed_entities.items()}\n",
    "    return processed_entities"
   ]
  },
  {
   "cell_type": "markdown",
   "id": "07deb794-1e36-4fc8-8c2e-641fdb4ad483",
   "metadata": {
    "editable": true,
    "slideshow": {
     "slide_type": ""
    },
    "tags": []
   },
   "source": [
    "## Perform Summarization and NER on News Articles"
   ]
  },
  {
   "cell_type": "code",
   "execution_count": null,
   "id": "84c751ab-d550-43e7-a548-59623d86592f",
   "metadata": {
    "editable": true,
    "slideshow": {
     "slide_type": ""
    },
    "tags": []
   },
   "outputs": [],
   "source": [
    "from bson import ObjectId"
   ]
  },
  {
   "cell_type": "code",
   "execution_count": null,
   "id": "8392d771-4c99-46e7-9933-db080ddbd54e",
   "metadata": {
    "editable": true,
    "slideshow": {
     "slide_type": ""
    },
    "tags": []
   },
   "outputs": [],
   "source": [
    "for news in news_articles:\n",
    "    summary = summarize_article(news['processed_content'])\n",
    "    entities = postprocess_entities(perform_ner(news['processed_content']))\n",
    "\n",
    "    news['news_summary'] = summary\n",
    "    news['entities'] = entities\n",
    "\n",
    "    # filter criteria\n",
    "    filter_criteria = {'_id': ObjectId(news['_id'])}\n",
    "    \n",
    "    # Define the update operation\n",
    "    update_data = {\n",
    "        '$set': {\n",
    "            'processed_content': news['processed_content'],\n",
    "            'news_summary': summary,\n",
    "            'entities': entities\n",
    "        }\n",
    "    }\n",
    "    \n",
    "    # Update the Mongo document\n",
    "    result = db.get_collection('raw-news').update_one(filter_criteria, update_data)"
   ]
  },
  {
   "cell_type": "markdown",
   "id": "c80c5002-a6df-4a6c-9408-27040d836c51",
   "metadata": {
    "editable": true,
    "slideshow": {
     "slide_type": ""
    },
    "tags": []
   },
   "source": [
    "## Save content and metadata on Chromadb"
   ]
  },
  {
   "cell_type": "code",
   "execution_count": null,
   "id": "8d012113-59fb-47d7-b54b-1ba7dd312bf3",
   "metadata": {
    "editable": true,
    "slideshow": {
     "slide_type": ""
    },
    "tags": []
   },
   "outputs": [],
   "source": [
    "import chromadb\n",
    "import numpy as np\n",
    "from chromadb.utils import embedding_functions\n",
    "from langchain_mistralai.embeddings import MistralAIEmbeddings"
   ]
  },
  {
   "cell_type": "code",
   "execution_count": null,
   "id": "1c3f8d67-7e14-4613-ba56-f72176a08b63",
   "metadata": {},
   "outputs": [],
   "source": [
    "CHROMA_DB_URL = os.getenv('CHROMA_DB_URL')"
   ]
  },
  {
   "cell_type": "code",
   "execution_count": null,
   "id": "ee664f67-c44f-4847-9993-87cb85050d4c",
   "metadata": {
    "editable": true,
    "slideshow": {
     "slide_type": ""
    },
    "tags": []
   },
   "outputs": [],
   "source": [
    "chroma_client = chromadb.HttpClient(CHROMA_DB_URL)"
   ]
  },
  {
   "cell_type": "code",
   "execution_count": null,
   "id": "48516153-a652-48d4-9e95-2a74c3c9376e",
   "metadata": {},
   "outputs": [],
   "source": [
    "try:\n",
    "    collection = chroma_client.get_collection(DB_NAME)\n",
    "except:\n",
    "    collection = chroma_client.create_collection(DB_NAME)"
   ]
  },
  {
   "cell_type": "code",
   "execution_count": null,
   "id": "c756a4b1-c4c6-4dd5-b91a-f30a7112440f",
   "metadata": {},
   "outputs": [],
   "source": [
    "sentence_transformer_ef = embedding_functions.SentenceTransformerEmbeddingFunction(model_name=\"all-MiniLM-L6-v2\")"
   ]
  },
  {
   "cell_type": "code",
   "execution_count": null,
   "id": "5dcbf29d-769a-420c-8ab9-4bcc52d9befb",
   "metadata": {},
   "outputs": [],
   "source": [
    "emb = sentence_transformer_ef([article['processed_content']])"
   ]
  },
  {
   "cell_type": "code",
   "execution_count": null,
   "id": "0f281ae7-49e7-4809-97c0-64b937057daf",
   "metadata": {},
   "outputs": [],
   "source": [
    "assert np.array(emb).shape[0] == 1 "
   ]
  },
  {
   "cell_type": "code",
   "execution_count": null,
   "id": "8a711399-2cbe-440c-b4d8-a99bad6cf5a1",
   "metadata": {},
   "outputs": [],
   "source": [
    "for news in news_articles:\n",
    "    collection.add(\n",
    "        documents=[news['processed_content']],\n",
    "        embeddings=sentence_transformer_ef([news['processed_content']]),\n",
    "        metadatas=[{'entities': json.dumps(news['entities']), \n",
    "                    'summary': news['news_summary'], \n",
    "                    'source': news['source'],\n",
    "                    'publication_date': news['publication_date']\n",
    "                   }],\n",
    "        ids=[str(news['_id'])]\n",
    "    )"
   ]
  },
  {
   "cell_type": "markdown",
   "id": "7d5e31dc-ab26-40ec-ab7a-56240025e2c0",
   "metadata": {},
   "source": [
    "### Test Chromadb Querying"
   ]
  },
  {
   "cell_type": "code",
   "execution_count": null,
   "id": "ef00f252-1b2b-4ce3-8a60-4df9d3da6066",
   "metadata": {},
   "outputs": [],
   "source": [
    "TEST_QUERY = \"\"\"\n",
    "    What's the latest in Texas?\n",
    "\"\"\""
   ]
  },
  {
   "cell_type": "code",
   "execution_count": null,
   "id": "1bab243b-7bc4-469b-8900-ea55e880b914",
   "metadata": {},
   "outputs": [],
   "source": [
    "query_entities = postprocess_entities(perform_ner(TEST_QUERY))\n",
    "query_embeddings = sentence_transformer_ef([TEST_QUERY])"
   ]
  },
  {
   "cell_type": "code",
   "execution_count": null,
   "id": "7c47d0b5-36e2-4782-a1b9-e27a4d6df46f",
   "metadata": {},
   "outputs": [],
   "source": [
    "query_entities"
   ]
  },
  {
   "cell_type": "code",
   "execution_count": null,
   "id": "4e89227d-496a-4e0f-9515-0774ee5fbaba",
   "metadata": {},
   "outputs": [],
   "source": [
    "collection.query(query_embeddings=query_embeddings, n_results=1)"
   ]
  },
  {
   "cell_type": "code",
   "execution_count": null,
   "id": "0410289a-d43b-4770-a933-cb7fbc5ca5fb",
   "metadata": {},
   "outputs": [],
   "source": [
    "len(collection.query(query_embeddings=query_embeddings, n_results=1)['ids'])"
   ]
  },
  {
   "cell_type": "markdown",
   "id": "a0afacb0-aa52-42b3-a44b-abe024f90f63",
   "metadata": {},
   "source": [
    "## LangChain"
   ]
  },
  {
   "cell_type": "code",
   "execution_count": null,
   "id": "fbb61a31-0fa4-44e9-865f-a6ae6e9ad34a",
   "metadata": {},
   "outputs": [],
   "source": [
    "!pip install langchain langchain-chroma langchain_community"
   ]
  },
  {
   "cell_type": "code",
   "execution_count": null,
   "id": "ad106473-1484-4237-a97b-5724ac3b6992",
   "metadata": {},
   "outputs": [],
   "source": [
    "import chromadb\n",
    "from langchain_chroma import Chroma\n",
    "from langchain_community.embeddings.sentence_transformer import (\n",
    "    SentenceTransformerEmbeddings,\n",
    ")"
   ]
  },
  {
   "cell_type": "code",
   "execution_count": null,
   "id": "e9aa49da-0c19-4493-bd97-894c38ea753d",
   "metadata": {},
   "outputs": [],
   "source": [
    "chroma_client = chromadb.HttpClient(CHROMA_DB_URL)"
   ]
  },
  {
   "cell_type": "code",
   "execution_count": null,
   "id": "c5f18a54-76fc-4037-b5ce-263a87fc8ead",
   "metadata": {},
   "outputs": [],
   "source": [
    "embedding_function = SentenceTransformerEmbeddings(model_name=\"all-MiniLM-L6-v2\")"
   ]
  },
  {
   "cell_type": "code",
   "execution_count": null,
   "id": "19af8f24-5834-4b65-91df-b7e099ab3531",
   "metadata": {},
   "outputs": [],
   "source": [
    "langchain_chroma = Chroma(\n",
    "    client=chroma_client,\n",
    "    collection_name=DB_NAME,\n",
    "    embedding_function=embedding_function,\n",
    ")"
   ]
  },
  {
   "cell_type": "code",
   "execution_count": null,
   "id": "2e25119b-ab63-4cdd-a163-3e5472f1c9ed",
   "metadata": {},
   "outputs": [],
   "source": [
    "print(\"There are\", langchain_chroma._collection.count(), \"items in the collection\")"
   ]
  },
  {
   "cell_type": "code",
   "execution_count": null,
   "id": "64d8d23e-8bce-4598-9b53-77782865305c",
   "metadata": {},
   "outputs": [],
   "source": [
    "query = \"How do you think michigan will vote this coming election\"\n",
    "docs = langchain_chroma.similarity_search(query)\n",
    "print(docs[0].page_content)"
   ]
  },
  {
   "cell_type": "code",
   "execution_count": null,
   "id": "a7ee959c-fbd5-4a80-abbd-d30171d68869",
   "metadata": {},
   "outputs": [],
   "source": []
  }
 ],
 "metadata": {
  "kernelspec": {
   "display_name": "USElectionsGPT",
   "language": "python",
   "name": "uselectionsgpt"
  },
  "language_info": {
   "codemirror_mode": {
    "name": "ipython",
    "version": 3
   },
   "file_extension": ".py",
   "mimetype": "text/x-python",
   "name": "python",
   "nbconvert_exporter": "python",
   "pygments_lexer": "ipython3",
   "version": "3.9.6"
  }
 },
 "nbformat": 4,
 "nbformat_minor": 5
}
