{
 "cells": [
  {
   "cell_type": "markdown",
   "id": "814d98b1-5f48-44a5-a4b4-83aa5ca8be9c",
   "metadata": {},
   "source": [
    "# News Article Summarization. \n",
    "This notebook prepares news articles to be inserted into the ChromaDB vector database. First, it creates a summary of the news article, then it identifies important Named Entities such as the names of politicians, locations, and relevant dates. Having a news summary allows us to quickly perform small-to-big retrieval; finding the full article from it's brief overview. This method helps us evaluate the Language Learning Model (LLM) more effectively. Additionally, the identified entities will be used as metadata and embedded with the news articles, aiding in fine-tuning and evaluating the LLM.\n",
    "\n",
    "For more insight into this approach, check out this YouTube video by Jerry Liu, Founder of LlmamaIndex: https://youtu.be/TRjq7t2Ms5I."
   ]
  },
  {
   "cell_type": "markdown",
   "id": "0161c5e3-0925-4bac-b2f7-f71936c03665",
   "metadata": {},
   "source": [
    "## Config & Install Libraries\n",
    "Check if Huggingface transformers and required libraries are installed"
   ]
  },
  {
   "cell_type": "code",
   "execution_count": null,
   "id": "50daf810-a778-4ac6-b36e-04f51dfd9e37",
   "metadata": {},
   "outputs": [],
   "source": [
    "!pip install -q transformers sentencepiece sentence-transformers datasets"
   ]
  },
  {
   "cell_type": "markdown",
   "id": "30fa7f79-1f93-4386-96b9-1fd0aa78fbbe",
   "metadata": {},
   "source": [
    "## News Summary Pipeline"
   ]
  },
  {
   "cell_type": "code",
   "execution_count": 3,
   "id": "3d6caa0e-2aea-44e9-9379-5cc09090d583",
   "metadata": {},
   "outputs": [],
   "source": [
    "import os\n",
    "import json\n",
    "from util import utils\n",
    "from pymongo import MongoClient\n",
    "from dotenv import load_dotenv, find_dotenv"
   ]
  },
  {
   "cell_type": "code",
   "execution_count": 4,
   "id": "ba077d4f-7a01-433c-8251-ad0adab8b0e5",
   "metadata": {},
   "outputs": [
    {
     "data": {
      "text/plain": [
       "True"
      ]
     },
     "execution_count": 4,
     "metadata": {},
     "output_type": "execute_result"
    }
   ],
   "source": [
    "load_dotenv(find_dotenv())"
   ]
  },
  {
   "cell_type": "code",
   "execution_count": 5,
   "id": "85a090e1-9b4f-4787-a03b-d78fe0754547",
   "metadata": {},
   "outputs": [],
   "source": [
    "MONGO_CONN_STRING = 'mongodb://admin:7QdQ3v0M50<>@192.168.8.166:27017/'  # os.getenv(\"MONGO_CONNECTION_STRING\")"
   ]
  },
  {
   "cell_type": "code",
   "execution_count": 6,
   "id": "9bf02214-764f-404a-9401-44a273c876c6",
   "metadata": {},
   "outputs": [],
   "source": [
    "mongo_client = MongoClient(MONGO_CONN_STRING)\n",
    "db = mongo_client.get_database(os.getenv(\"MONGO_DB_NAME\"))"
   ]
  },
  {
   "cell_type": "markdown",
   "id": "5f6a3dda-cc27-4648-be12-f799485a38dc",
   "metadata": {},
   "source": [
    "### Prepare Dataset"
   ]
  },
  {
   "cell_type": "code",
   "execution_count": 7,
   "id": "0b4d3b23-3ac1-4ecf-96ed-5c8f90baa31f",
   "metadata": {},
   "outputs": [],
   "source": [
    "batch_date = {'$gte': '2024-04-08', '$lte': '2024-04-09'}"
   ]
  },
  {
   "cell_type": "code",
   "execution_count": 8,
   "id": "8651a5f5-0a69-41d3-bb6e-fe5a4c9017e4",
   "metadata": {},
   "outputs": [],
   "source": [
    "news_articles = json.loads(json.dumps(list(db.get_collection('raw-news').find({'created_at': batch_date})), cls=utils.CustomMongoDecoder))"
   ]
  },
  {
   "cell_type": "code",
   "execution_count": 9,
   "id": "123e5e2e-1e8d-45a9-aa4c-5b350d3a3ccc",
   "metadata": {},
   "outputs": [],
   "source": [
    "for article in news_articles:\n",
    "    article['processed_content'] = ''.join(art.strip() for art in article['raw_content'])\n",
    "    article['processed_content'] = article['processed_content'].replace('\\xa0', ' ')"
   ]
  },
  {
   "cell_type": "code",
   "execution_count": 25,
   "id": "5f1a7318-5d23-46a2-8f0f-09e018f26e7a",
   "metadata": {},
   "outputs": [
    {
     "data": {
      "text/plain": [
       "'South Carolina catapultedto the top of the Democratic primary in 2020, and on Monday, the president returned hoping the state – and its Black voters – can help recharge.The state’s February 3 Democratic primary is not competitive. But with many Black voters saying in polls and Democratic focus groups they feel disengaged and disenchanted with the political process, South Carolina – far from a battleground in the general election – will be the first electoral test of how deep a hole Biden is actually in.During Monday’s speech, Biden nodded to the significance of Rep. Jim Clyburn and the Black voters of South Carolina, whom he has credited with turning the tide of the 2020 primary election in his favor.“It’s because of this congregation and the Black community of South Carolina - and it’s not an exaggeration – and Jim Clyburn – that I stand here today as your president. And I’ve done my best to honor your trust.”With his campaign trailing in early polling of the general election and some even in his administration thinking he is too weak to be mounting a reelection, Biden has been trying to get the country to agree with him that the future of democracy depends on his winning. He madeon Friday in an impassioned speech near Valley Forge, Pennsylvania, where George Washington and his army survived a brutal winter and went on to win the Revolutionary War.But by heading to the Mother Emanuel AME Church in Charleston, he is reaching for a very different and painful part of American history – and making a very explicit attempt to start winning back the Black support that has drifted away from him, in a place he will say has become a warning of what extremism can lead to.“The word of God was pierced by bullets of hate and rage, propelled by not just gun powder but by a poison — poison that for too long haunted this nation. What is that poison? White supremacy. All that is, is a poison. Throughout our history, it’s ripped this nation apart. This has no place in America. Not today, tomorrow or ever,” Biden said, recalling the 2015 shooting at the church by a White supremacist. He met with survivors and the families of those killed in the shooting for more than an hour later Monday.– who is a Biden campaign co-chair – told CNN that he believes Biden can still resonate with voters, but that he will need to directly engage with voters and remind them what the administration has accomplished.“It is one thing for people to see you. It is also one thing for people to hear you. But the most effective thing is for people to feel you. That is what is effective,” Clyburn said, drawing on Biden’s extensive history with South Carolina, where his campaign has a team of operatives in place. “That’s why he’s effective. People feel Joe Biden.”But Biden’s connection to the state and the community is what resonates most, Clyburn argued – and that was on display Monday as Biden was frequently cheered on with chants of “four more years” from the church crowd.That connection goes back decades: from the many family vacations he started taking in the years after the accident that killed his first wife and baby daughter – including in 2015, in the weeks after his son Beau died – to the 2020 primary, where an unexpectedly large victory there after a string of near-campaign-ending early losses.“You all made this possible,” he said Monday, adding, “That’s democracy – and I’m proud to make sure to have led the effort to make sure that your voice, the South Carolina voice is heard – because now you’re first in the nation,” a reference to the Democratic Party making South Carolina the first Democratic primary state in this election.Biden’s last trip to Mother Emanuel was nearly nine years ago, in the spring of 2015. The congregation was mourning, and so was he, having buried his son Beau two weeks after a White supremacist murdered nine Black parishioners having a Bible study in the basement, including pastor and state Sen. Clementa Pinckney.Then-Vice President Biden spoke for only a few minutes. “No words can mend a broken heart, no music can fill a gaping void,” he said then. “Sometimes even faith leaves you, just for a second, sometimes you doubt.”Jaime Harrison – now the Democratic National Committee chair but a former South Carolina state party chair and US Senate candidate – said that as a South Carolinian, Biden’s remarks are still “burnt” in his mind.“Joe Biden is going to walk out of South Carolina with strong support because the state knows him; the state knows how hard he’s fought for them,” Harrison said. “That still sits with me because that was just genuine, who Joe Biden is. That wasn’t because of politics or any image. It is who he is.”During Monday’s speech, the president cast the 2024 election as a battle for truth as he compared his predecessor to defeated Confederate soldiers.“The truth is under assault in America. As a consequence, so is our freedom, our democracy, our very country,” Biden said.Biden, who is expected to spend the election year starkly framing the choice as critical to the future of democracy, used his remarks to explicitly compare former President Donald Trump and his most ardent supporters to “defeated Confederates” after the Civil War.“After the Civil War, the defeated Confederates couldn’t accept the verdict of the war, they lost. So they say they embraced what is known as the lost cause, the self-serving lie that the Civil War was not about slavery but about states’ rights. They call that the noble cause. That was a lie,” he said.“Now, we’re living in an era of a second lost cause. Once again, there are some in this country trying to turn a loss into a lie. A lie which if allowed to live will once again bring terrible damage to this country. This time the lie is about the 2020 election.”In contrast, Biden highlighted some of his key accomplishments: record low Black unemployment, record high Black health insurance signups, funding for HBCUs, efforts to replace lead pipes, and the appointment of diverse judicial candidates.Biden detailed the events of January 6, 2021, describing a “violent mob” that was “whipped up by lies from a defeated former president.”Trump’s actions that day, the president said, “were among the worst derelictions of duty by any president in American history,” calling the former president a “loser.”“Losers are taught to concede when they lose. And he’s a loser,” Biden said to cheers.Biden cast Trump’s actions and the events of January 6 as “an attempt to overturn a free and fair election by force of violence.”“Let me say what others cannot: We must reject political violence in America. Always, not sometimes, always. It is never appropriate. The violence of January 6 was the extension of an old playbook from the threats of violence and intimidation,” he said.He warned broadly that Trump’s movement – “the same movement” of January 6 – “isn’t just trying to rewrite history on January 6, they were trying to determine to erase history and your future,” he said, pointing to efforts to ban books, deny the right to vote, and “destroying diversity, equality and inclusion all across America. Harboring hate and replacing hope with anger and resentment.”“It’s a dangerous view of America. A narrow view of America. A zero-sum view of America that says if you win I lose, if you succeed it must be I failed. If you get ahead I fall behind. May be worst of all, if I hold you down, I lift myself up,” he warned.Because of his own decades of work and his connection to former President Barack Obama, Biden had a well of consistent Black support that stuck by him in his bleakest moments in the 2020 primaries. After embarrassing losses in primaries with much Whiter electorates, that support helped him win in South Carolina so convincingly that it accelerated the end of the primary battle.showed Biden winning Black voters 87% to 12% over Trump nationally in 2020.This time around,showed Biden’s approval rating at 62% among Black voters, taking 80% of the vote in a hypothetical matchup against Trump.showed 75% of Black voters picking him in a hypothetical race with Trump.But that’s not the metric top Democratic operatives outside and inside the Biden campaign have been stressing about. The bigger concern is that Black voters don’t turn out to vote, citing 2020 and the 2022 midterms, when they didn’t show up at the levels strategists had hoped for. They argue that if the Republican nominee again gets strong support among White voters in more rural part of battleground states including Wisconsin, Michigan, Pennsylvania, Georgia and North Carolina, Biden will desperately need to make up those numbers with big votes out of places like Milwaukee, Detroit, Pittsburgh, Philadelphia, Atlanta and Charlotte, North Carolina.There are other issues plaguing the president as well, such as deep dissatisfaction in progressive circles about Biden’s response to the Israel-Hamas war. As Biden began to speak about the threat to democracy during Monday’s speech, he was interrupted by a group of protesters calling for a ceasefire in Gaza.A small handful of protesters stood up and began shouting at the president. They were asked to leave, as supporters began chanting, “Four more years.” The moment underscored the divisions within the Democratic Party on the issue three months since Hamas’ attack on Israel.Biden acknowledged the protest: “I understand the passion and I’ve been quietly working … with the Israeli government to reduce – significantly get out of Gaza.”Biden aides highlight data points such as the drop in Black unemployment and the growth in Black businesses, as well as a reduction in theor the Biden administration’s investments in historically Black colleges and universities. Early advertising and organizing has promoted that record and stressed how much worse life would be for Black Americans if Trump returned to the White House.But Biden deputy campaign manager Quentin Fulks acknowledged how steep the climb remains.“We’re not going to wait and parachute into these communities the last minute and ask them for their vote. We’re going to earn their vote,” Fulks told reporters last week. “Voters of color are the ones who have the most at stake in this election, and we need to make sure that every single one of them understands the choice in front of them.”Getting Black voters – and voters overall – to choose Biden, leaders warn, will take more than lofty speeches about the Continental Army delivered in front of well-lit pillars.“The urgency that we have right now is for Black folks to have the freedom to feel like we can live the American dream,” Harrison said.“This president is fighting for the freedom for folks to be able to go to that church, pray to their God and do it without the threat of gun violence because somebody has some racial hatred. Just the freedom to live your life, to take care of your kids in terms of their schools, having money in your pocket and actually living the American dream,” he added.In Pennsylvania, once again expected to be a presidential battleground this year, Democratic Gov. Josh Shapiro started talking about this as “real freedom” during his successful 2022 gubernatorial campaign. While praising Biden’s speech Friday, Shapiro urged the president to build on that with specifics.“After establishing that historical foundation, it’s important to explain to people how freedom can make their lives better,” Shapiro said. “Real freedom to control your own body. That’s a real-time issue. Real freedom for your kids to read the books they want. Real freedom to have safety and security in your neighborhood. So I think the journey through our history is important to lay that precedent and then it’s really important that we talk about real freedom in real terms that impact people’s lives today.”Rep. Madeleine Dean, a Democrat who represents the area that includes Valley Forge, said she hopes that Biden kicking off 2024 with a speech on democracy followed by remarks in South Carolina will serve as “a pivot point.”“We have to summon up that same courage to fight tyranny and to fight the forces that would be autocratic and would tear away the values that we all really prize,” Dean said.The president’s reelection campaign raised more than $1 million from online donors in the 24 hours after the speech near Valley Forge, a campaign official told CNN.The aftermath of the 2015 Mother Emanuel shooting extends politically to the 2024 campaign.biggest moment in the national spotlight as South Carolina governor was when she called, in the days after the shooting, for the Confederate flag to be removed from the Statehouse grounds – in part to provide a way out for Republicans running in that year’s South Carolina primary from being chased with questions about keeping the flag there.Now, in her own GOP presidential campaign, Haley hasfor leaving out slavery when asked at an event in late December about the cause of the Civil War. (said that based on his own studies, he believes the war “could have been negotiated.”)A Biden campaign aide said the church wasn’t chosen as the site of the speech to jab at Haley as she tries to emerge as the main alternative to Trump, arguing that there are much bigger issues at play about America, democracy and extremism that brought Biden back to this church and across the water from where the first shots of the Civil War were fired at Fort Sumter.Still, Biden couldn’t resist a small jab, saying, “Let me be clear for those who don’t seem to know: Slavery was the cause” of the Civil War.On her own visit to South Carolina on Saturday, Vice President Kamala Harris warned in Myrtle Beach of a “full-on attack on hard-won freedom and rights” that included a deliberate dig at Haley.“We see extremists ban books and attempt to erase, overlook and even rewrite the dark parts of America’s history. For example, the Civil War – which I really have to say, was about slavery,” Harris said.Citing the administration’s expansion of high-speed internet access, focus on Black maternal mortality and funding of historically Black colleges and universities, she said those efforts were made possible “because you voted and organized in 2020.”The Biden campaign is taking little for granted in South Carolina. Harris’ next trip is already scheduled: She will be at the state Capitol next Monday for a speech marking Martin Luther King Day.CNN’s Arlette Saenz contributed to this report.© 2024 Cable News Network. A Warner Bros. Discovery Company. All Rights Reserved.CNN Sans ™ & © 2016 Cable News Network.'"
      ]
     },
     "execution_count": 25,
     "metadata": {},
     "output_type": "execute_result"
    }
   ],
   "source": [
    "article['processed_content']"
   ]
  },
  {
   "cell_type": "markdown",
   "id": "90714437-0414-4872-bf02-8203d7fcd556",
   "metadata": {},
   "source": [
    "## Load Summarization Model"
   ]
  },
  {
   "cell_type": "code",
   "execution_count": 21,
   "id": "8b60181e-0b78-42ab-8e56-7625cf061544",
   "metadata": {},
   "outputs": [],
   "source": [
    "MODEL_NAME = 'google/bigbird-roberta-base'"
   ]
  },
  {
   "cell_type": "code",
   "execution_count": 47,
   "id": "8e956a8a-041a-40db-ab2b-d58540010d2d",
   "metadata": {},
   "outputs": [
    {
     "name": "stdout",
     "output_type": "stream",
     "text": [
      "Summary with Named Entities:  South Carolina catapultedto the top of the Democratic primary in 2020, and on Monday, the president returned hoping the state – and its Black voters – can help recharge. The state’s February 3 Democratic primary is not competitive. But with many Black voters saying in polls and Democratic focus groups they feel disengaged and disenchanted with the political process, South Carolina will be the first electoral test of how deep a hole Biden is in.\n"
     ]
    }
   ],
   "source": [
    "from transformers import BartTokenizer, BartForConditionalGeneration\n",
    "\n",
    "# Load fine-tuned BART model for summarization\n",
    "model_name = \"facebook/bart-large-cnn\"\n",
    "tokenizer = BartTokenizer.from_pretrained(model_name)\n",
    "model = BartForConditionalGeneration.from_pretrained(model_name)\n",
    "\n",
    "# Text to be summarized\n",
    "text = article['processed_content']\n",
    "\n",
    "# Tokenize and encode the text\n",
    "inputs = tokenizer([text], max_length=1024, return_tensors=\"pt\", truncation=True)\n",
    "\n",
    "# Generate summary\n",
    "summary_ids = model.generate(inputs.input_ids, num_beams=4, length_penalty=2.0, early_stopping=True)\n",
    "\n",
    "# Decode and print the summary\n",
    "summary = tokenizer.decode(summary_ids[0], skip_special_tokens=True)\n",
    "\n",
    "# print summary\n",
    "print(\"Summary with Named Entities: \", summary)\n"
   ]
  },
  {
   "cell_type": "code",
   "execution_count": 49,
   "id": "7d124bb4-642a-41ae-a38c-90d844188b13",
   "metadata": {},
   "outputs": [],
   "source": [
    "from transformers import BigBirdPegasusForConditionalGeneration, AutoTokenizer\n",
    "\n",
    "tokenizer = AutoTokenizer.from_pretrained(\"google/bigbird-pegasus-large-bigpatent\")\n",
    "\n",
    "# by default encoder-attention is `block_sparse` with num_random_blocks=3, block_size=64\n",
    "model = BigBirdPegasusForConditionalGeneration.from_pretrained(\"google/bigbird-pegasus-large-bigpatent\")\n",
    "\n",
    "text = article['processed_content']\n",
    "\n",
    "inputs = tokenizer(text, return_tensors='pt')\n",
    "prediction = model.generate(**inputs)\n",
    "prediction = tokenizer.batch_decode(prediction)"
   ]
  },
  {
   "cell_type": "code",
   "execution_count": 50,
   "id": "b0f9b175-d0bc-44e8-b015-e23f76919918",
   "metadata": {},
   "outputs": [
    {
     "data": {
      "text/plain": [
       "['<s> A method for energizing voters to re-engage with the fundamentals of the fabric of the fabric of the fabric of the fabric of the fabric of the fabric of the fabric of the fabric of the nation, the method comprising a series of speeches by candidates for and for re-establishing the integrity of the fabric of the fabric of the fabric of the fabric of the nation, the method comprising a series of speeches by candidates for and for re-establishing the integrity of the fabric of the fabric of the fabric of the fabric of the nation, the method comprising a series of speeches by candidates for and for re-establishing the integrity of the fabric of the fabric of the fabric of the fabric of the nation, the method comprising a series of speeches by candidates for and for re-establishing the integrity of the fabric of the fabric of the fabric of the fabric of the fabric of the nation, the method comprising a series of speeches by candidates for and for re-establishing the integrity of the fabric of the fabric of the fabric of the fabric of the nation, the method comprising a series of speeches by candidates for and for re-establishing the integrity of the fabric of the fabric of the fabric of the fabric of the nation, the method comprising a series of speeches by candidates for and for re-']"
      ]
     },
     "execution_count": 50,
     "metadata": {},
     "output_type": "execute_result"
    }
   ],
   "source": [
    "prediction"
   ]
  },
  {
   "cell_type": "code",
   "execution_count": null,
   "id": "25723a98-c48f-4c81-9774-a05d9074f61c",
   "metadata": {},
   "outputs": [],
   "source": [
    "# Input text\n",
    "text = \"Your long text here...\"\n",
    "\n",
    "# Tokenize input text\n",
    "inputs = tokenizer(text, return_tensors='pt', max_length=4096, truncation=True)\n",
    "\n",
    "# Generate summary\n",
    "summary_ids = model.generate(inputs.input_ids, max_length=150, min_length=40, length_penalty=2.0, num_beams=4, early_stopping=True)\n",
    "summary = tokenizer.decode(summary_ids[0], skip_special_tokens=True)\n",
    "\n",
    "# Print the summary\n",
    "print(summary)"
   ]
  },
  {
   "cell_type": "code",
   "execution_count": 19,
   "id": "8dcddf58-cf04-4582-8237-bbb6f65aa923",
   "metadata": {},
   "outputs": [
    {
     "data": {
      "text/plain": [
       "[{'summary_text': 'in this report we report on the joint investigation of the 2016 , 2016 march 1 protest and the 2016 march in support of @xmath0 and @xmath1 .'}]"
      ]
     },
     "execution_count": 19,
     "metadata": {},
     "output_type": "execute_result"
    }
   ],
   "source": [
    "summarizer(article['processed_content'])"
   ]
  },
  {
   "cell_type": "code",
   "execution_count": null,
   "id": "253a146e-76ef-4bb9-ad87-2293ab2f92ad",
   "metadata": {},
   "outputs": [],
   "source": []
  }
 ],
 "metadata": {
  "kernelspec": {
   "display_name": "USElectionsGPT",
   "language": "python",
   "name": "uselectionsgpt"
  },
  "language_info": {
   "codemirror_mode": {
    "name": "ipython",
    "version": 3
   },
   "file_extension": ".py",
   "mimetype": "text/x-python",
   "name": "python",
   "nbconvert_exporter": "python",
   "pygments_lexer": "ipython3",
   "version": "3.9.6"
  }
 },
 "nbformat": 4,
 "nbformat_minor": 5
}
