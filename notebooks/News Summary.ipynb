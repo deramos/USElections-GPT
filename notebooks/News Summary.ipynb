{
 "cells": [
  {
   "cell_type": "markdown",
   "id": "814d98b1-5f48-44a5-a4b4-83aa5ca8be9c",
   "metadata": {},
   "source": [
    "# News Article Summarization. \n",
    "This notebook prepares news articles to be inserted into the ChromaDB vector database. First, it creates a summary of the news article, then it identifies important Named Entities such as the names of politicians, locations, and relevant dates. Having a news summary allows us to quickly perform small-to-big retrieval; finding the full article from it's brief overview. This method helps us evaluate the Language Learning Model (LLM) more effectively. Additionally, the identified entities will be used as metadata and embedded with the news articles, aiding in fine-tuning and evaluating the LLM.\n",
    "\n",
    "For more insight into this approach, check out this YouTube video by Jerry Liu, Founder of LlmamaIndex: https://youtu.be/TRjq7t2Ms5I."
   ]
  },
  {
   "cell_type": "markdown",
   "id": "0161c5e3-0925-4bac-b2f7-f71936c03665",
   "metadata": {},
   "source": [
    "## Install Libraries\n",
    "Check if Huggingface transformers and required libraries are installed"
   ]
  },
  {
   "cell_type": "code",
   "execution_count": 1,
   "id": "50daf810-a778-4ac6-b36e-04f51dfd9e37",
   "metadata": {},
   "outputs": [],
   "source": [
    "!pip install -q transformers sentencepiece sentence-transformers datasets"
   ]
  },
  {
   "cell_type": "markdown",
   "id": "30fa7f79-1f93-4386-96b9-1fd0aa78fbbe",
   "metadata": {},
   "source": [
    "## News Summary Pipeline"
   ]
  },
  {
   "cell_type": "code",
   "execution_count": 5,
   "id": "3d6caa0e-2aea-44e9-9379-5cc09090d583",
   "metadata": {},
   "outputs": [],
   "source": [
    "import os\n",
    "from pymongo import MongoClient\n",
    "from dotenv import load_dotenv, find_dotenv"
   ]
  },
  {
   "cell_type": "code",
   "execution_count": 6,
   "id": "ba077d4f-7a01-433c-8251-ad0adab8b0e5",
   "metadata": {},
   "outputs": [
    {
     "data": {
      "text/plain": [
       "True"
      ]
     },
     "execution_count": 6,
     "metadata": {},
     "output_type": "execute_result"
    }
   ],
   "source": [
    "load_dotenv(find_dotenv())"
   ]
  },
  {
   "cell_type": "code",
   "execution_count": 13,
   "id": "85a090e1-9b4f-4787-a03b-d78fe0754547",
   "metadata": {},
   "outputs": [],
   "source": [
    "MONGO_CONN_STRING = 'mongodb://admin:7QdQ3v0M50<>@192.168.8.166:27017/'  # os.getenv(\"MONGO_CONNECTION_STRING\")"
   ]
  },
  {
   "cell_type": "code",
   "execution_count": 14,
   "id": "9bf02214-764f-404a-9401-44a273c876c6",
   "metadata": {},
   "outputs": [],
   "source": [
    "mongo_client = MongoClient(MONGO_CONN_STRING)\n",
    "db = mongo_client.get_database(os.getenv(\"MONGO_DB_NAME\"))"
   ]
  },
  {
   "cell_type": "markdown",
   "id": "5f6a3dda-cc27-4648-be12-f799485a38dc",
   "metadata": {},
   "source": [
    "### Prepare Dataset"
   ]
  },
  {
   "cell_type": "code",
   "execution_count": 15,
   "id": "0b4d3b23-3ac1-4ecf-96ed-5c8f90baa31f",
   "metadata": {},
   "outputs": [],
   "source": [
    "batch_date = {'$gte': '2024-04-05', '$lte': '2024-04-06'}"
   ]
  },
  {
   "cell_type": "code",
   "execution_count": 16,
   "id": "8651a5f5-0a69-41d3-bb6e-fe5a4c9017e4",
   "metadata": {},
   "outputs": [],
   "source": [
    "news_articles = list(db.get_collection('raw-news').find({'created_at': batch_date}))"
   ]
  },
  {
   "cell_type": "code",
   "execution_count": 17,
   "id": "123e5e2e-1e8d-45a9-aa4c-5b350d3a3ccc",
   "metadata": {},
   "outputs": [
    {
     "data": {
      "text/plain": [
       "[{'_id': ObjectId('66106d1c9f152b08d8729d64'),\n",
       "  'title': 'Politics | CNN Politics',\n",
       "  'raw_content': ['Show\\xa0all',\n",
       "   'Show\\xa0all',\n",
       "   'Show\\xa0all',\n",
       "   '© 2024 Cable News Network. A Warner Bros. Discovery Company. All Rights Reserved. ',\n",
       "   ' CNN Sans ™ & © 2016 Cable News Network.'],\n",
       "  'url': 'https://edition.cnn.com/politics/',\n",
       "  'source': 'CNN',\n",
       "  'created_at': '2024-04-05T21:29:00.721689'},\n",
       " {'_id': ObjectId('66106d619f152b08d8729d65'),\n",
       "  'title': 'House GOP pushes ahead with TikTok bill despite Trump opposition | CNN Politics',\n",
       "  'raw_content': ['\\n            House Republicans are pressing ahead with a Wednesday floor vote on ',\n",
       "   ' unless it part ways with its Chinese parent company, even as former President ',\n",
       "   'p has signaled some uneasiness over the legislation.\\n    ',\n",
       "   '\\n            House Energy and Commerce ',\n",
       "   '\\xa0expressed confidence the measure would pass and downplayed the presumptive Republican presidential nominee’s opposition, noting he previously supported the idea of ',\n",
       "   '.\\n    ',\n",
       "   '\\n            “This is in alignment with what Donald Trump attempted to do when he was president. And he recognized that TikTok was a national security threat, and we are proceeding, because that threat continues today,” she said. “I’m just encouraging him to look at the bill.”\\n    ',\n",
       "   '\\n            Still, there’s been a behind-the-scenes effort by bill supporters to launch a counter-campaign in response to TikTok’s lobbying blitz against the legislation. That includes scheduling a classified briefing for all House members at 1 p.m. Tuesday about the app’s potential national security threat.\\n    ',\n",
       "   '\\n      \\n      ',\n",
       "   '\\n      ',\n",
       "   '\\n    ',\n",
       "   '\\n            McMorris Rodgers also gave a briefing on the bill during a House GOP whip meeting on Monday night, though leadership is not formally whipping the bill, which will come up under suspension of the rules – an expedited process that requires a two-thirds majority for passage.\\n    ',\n",
       "   '\\n            “Members have an opportunity to get this classified briefing from Department of Justice and other intelligence agencies around what they see as the threat of apps that are owned by foreign adversaries,” said McMorris Rodgers. “We’re working very hard to answer questions and continue to build support.”\\n    ',\n",
       "   '\\n            GOP Rep. Morgan Griffith of Virginia, an Energy and Commerce member, added: “If people take advantage of (the briefings), they’ll see things that the former president doesn’t currently have access to.”\\n    ',\n",
       "   '\\n            Rep. Jeff Duncan, a Freedom Caucus member who also sits on Energy and Commerce, told CNN he’s sought to educate Trump’s camp about what the bill would actually do.\\n    ',\n",
       "   '\\n            “You know, we’ve reached out to their team to try to explain things… Getting educated on the fact that ByteDance owns TikTok and by ByteDance is controlled by the Chinese Communist Party,” Duncan, a South Carolina Republican, told CNN. “We’ve had some back and forth with it. Just provide information and not anything contentious at all.”\\n    ',\n",
       "   '\\n            GOP Rep. Greg Pence of Indiana also said they are working to clear up misconceptions about the bill, which would give ByteDance 165 days to sell TikTok or else it would be banned from US app stores. Bill supporters have also been quick to point out that the bill does not require American ownership, just mandates that a foreign adversary can’t own it.\\n    ',\n",
       "   '\\n            “I hope the word ‘ban’ gets out of everybody’s vocabulary. This isn’t a bill that bans, and some folks are talking about this is specifically targeted to one company. Nowhere in the bill does it say Tiktok,” Pence told CNN. “So, I think it’s unfortunate. Maybe people don’t really understand the bill.”\\n    ',\n",
       "   '\\n            House Majority Leader Steve Scalise',\n",
       "   'expressed confidence the bill will pass in the chamber. The measure’s fate, however, is less certain in the Senate, but Scalise told CNN he’s had conversations with senators who are “interested” in the legislation.\\n    ',\n",
       "   '\\n            Amid House Republicans’ education efforts, TikTok CEO Shou Chew has been trying to schedule meetings with senators and has been facing headwinds getting some senators to meet at all, a source familiar told CNN. Punchbowl News first reported that Chew was trying to meet with senators.\\n    ',\n",
       "   '\\n            While many senators told CNN they were still reviewing the legislation Monday night, there is a core group of senators who have expressed support or openness to the House bill.\\n    ',\n",
       "   '\\n      \\n      ',\n",
       "   '\\n      ',\n",
       "   '\\n    ',\n",
       "   '\\n            Asked if there’s any concern about Trump potentially influencing on-the-fence Republicans,',\n",
       "   'Rep. Mariannette Miller-Meeks told CNN she was confident the measure will pass and said: “I would think that we need to keep moving forward.”\\n    ',\n",
       "   '\\n            She also said TikTok’s campaign encouraging users to call members of Congress backfired.\\n    ',\n",
       "   '\\n            The Iowa Republican said they fielded a flood of calls from “young people calling in and people who, number one, some didn’t even know what Congress was or why they were calling. But it also shows you … how they proceeded to try to get people engaged in order to advocate for preserving the current structure.”\\n    ',\n",
       "   '\\n            GOP Rep. Chip Roy pushed back against Trump over his flip-flopping stance on the app.\\n    ',\n",
       "   '\\n            “He’s wrong,” Roy, a House Freedom Caucus member, told CNN. “I mean, it’s not the first or last time that I’ll disagree with the former president. The TikTok issue is pretty straightforward, it’s not even about TikTok. It’s about ensuring we’re protecting the data of the American people.”\\n    ',\n",
       "   '\\n            The Texas Republican continued: “We know what’s happening with Tik Tok and the Chinese Communist Party’s control of that, so we should address it. This bill is a good faith effort to do that without targeting them specifically.”\\n    ',\n",
       "   '\\n            House Freedom Caucus Chairman Bob Good said he is still evaluating the TikTok legislation but said he’s leaning voting in “favor” of it.\\xa0He also said Trump’s position has no impact on his decision.\\n    ',\n",
       "   '\\n            But at least one member said the former president could potentially sway them: Texas Rep. Troy Nehls, a staunch Trump ally, said he is against the app and its ties to China, but is still undecided on the bill – in part because he wants to hear out Trump first.\\n    ',\n",
       "   '\\n            “I’ll have to have a conversation with him. See what his thought process is,” Nehls said.\\n    ',\n",
       "   '\\n            CNN’s Sam Fossum, Manu Raju and Lauren Fox contributed to this report.\\n    ',\n",
       "   '© 2024 Cable News Network. A Warner Bros. Discovery Company. All Rights Reserved. ',\n",
       "   ' CNN Sans ™ & © 2016 Cable News Network.'],\n",
       "  'url': 'https://edition.cnn.com/2024/03/11/politics/house-gop-tiktok-trump-opposition/index.html',\n",
       "  'source': 'CNN',\n",
       "  'created_at': '2024-04-05T21:30:09.329763'},\n",
       " {'_id': ObjectId('66106d649f152b08d8729d66'),\n",
       "  'title': 'Many Republicans plan to skip House GOP retreat as they grumble about location and spending time with one another | CNN Politics',\n",
       "  'raw_content': ['\\n            Many Republicans plan to skip the House GOP retreat as they grumble about both the location and the idea of spending time with one another, with tensions still running high inside the party in the wake of their unprecedented speakership drama.\\n    ',\n",
       "   '\\n            Fewer than 100 Republicans have RSVP’d to attend the retreat, which is less than half of the entire conference, according to a GOP source familiar with the attendance sheet.\\n    ',\n",
       "   '\\n            The retreat is scheduled to take place Wednesday and Thursday in West Virginia.\\n    ',\n",
       "   '\\n            Publicly, Republicans have cited a litany of reasons for not attending: from having to tend to reelection races to scheduling conflicts. GOP Rep. Nancy Mace of South Carolina, for example, is scheduled to appear on “Real Time with Bill Maher” later this week. Meanwhile, when asked if he was attending, GOP Rep. Kelly Armstrong of North Dakota told CNN: “No way, I have to run for governor.” And Rep. Tim Burchett of Tennessee quipped:\\xa0“I don’t retreat, I move forward! I got a farm to run.”\\n    ',\n",
       "   '\\n            But privately, some Republicans have complained about the venue choice. Sources said Speaker Mike Johnson selected the Greenbrier Resort because it was “family friendly,” in a break from past retreats which have taken place in sunny Florida – the preferred location of former Speaker Kevin McCarthy.\\n    ',\n",
       "   '\\n            And other GOP lawmakers and aides told CNN they were simply not enthusiastic about the idea of having to huddle with the rest of their party at a time when Republican infighting has prevented them from even passing procedural votes.\\n    ',\n",
       "   '\\n            In a remarkable split screen, firebrand GOP Rep. Matt Gaetz of Florida will be attending a rally in Texas on Thursday in support of Brandon Herrera, a far-right candidate who is challenging GOP Rep. Tony Gonzales.\\n    ',\n",
       "   '\\n            In another hiccup for the retreat, the House GOP’s keynote speaker – Fox Business Host Larry Kudlow – had to drop out at the last minute, sources say.\\xa0Howard Lutnick, the CEO of Cantor Fitzgerald, will take his place instead.\\n    ',\n",
       "   '\\n            Among the Republicans who have decided to skip the retreat include Rep. Mark Green of Tennessee, the chairman of the House Homeland Security Committee; Reps. Dusty Johnson of South Dakota and Stephanie Bice of Oklahoma, the co-chairs of the Main Street Caucus; and Rep. Dave Joyce of Ohio, chairman of the Republican Governance Group.\\n    ',\n",
       "   '© 2024 Cable News Network. A Warner Bros. Discovery Company. All Rights Reserved. ',\n",
       "   ' CNN Sans ™ & © 2016 Cable News Network.'],\n",
       "  'url': 'https://edition.cnn.com/2024/03/12/politics/house-gop-retreat/index.html',\n",
       "  'source': 'CNN',\n",
       "  'created_at': '2024-04-05T21:30:12.732716'}]"
      ]
     },
     "execution_count": 17,
     "metadata": {},
     "output_type": "execute_result"
    }
   ],
   "source": [
    "news_articles"
   ]
  },
  {
   "cell_type": "code",
   "execution_count": null,
   "id": "5f1a7318-5d23-46a2-8f0f-09e018f26e7a",
   "metadata": {},
   "outputs": [],
   "source": []
  }
 ],
 "metadata": {
  "kernelspec": {
   "display_name": "USElectionsGPT",
   "language": "python",
   "name": "uselectionsgpt"
  },
  "language_info": {
   "codemirror_mode": {
    "name": "ipython",
    "version": 3
   },
   "file_extension": ".py",
   "mimetype": "text/x-python",
   "name": "python",
   "nbconvert_exporter": "python",
   "pygments_lexer": "ipython3",
   "version": "3.9.6"
  }
 },
 "nbformat": 4,
 "nbformat_minor": 5
}
