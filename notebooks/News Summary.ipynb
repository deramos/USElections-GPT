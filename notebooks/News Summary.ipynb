{
 "cells": [
  {
   "cell_type": "markdown",
   "id": "814d98b1-5f48-44a5-a4b4-83aa5ca8be9c",
   "metadata": {},
   "source": [
    "# News Article Summarization. \n",
    "This notebook prepares news articles to be inserted into the ChromaDB vector database. First, it creates a summary of the news article, then it identifies important Named Entities such as the names of politicians, locations, and relevant dates. Having a news summary allows us to quickly perform small-to-big retrieval; finding the full article from it's brief overview. This method helps us evaluate the Language Learning Model (LLM) more effectively. Additionally, the identified entities will be used as metadata and embedded with the news articles, aiding in fine-tuning and evaluating the LLM.\n",
    "\n",
    "For more insight into this approach, check out this YouTube video by Jerry Liu, Founder of LlmamaIndex: https://youtu.be/TRjq7t2Ms5I."
   ]
  },
  {
   "cell_type": "markdown",
   "id": "0161c5e3-0925-4bac-b2f7-f71936c03665",
   "metadata": {},
   "source": [
    "## Config & Install Libraries\n",
    "Check if Huggingface transformers and required libraries are installed"
   ]
  },
  {
   "cell_type": "code",
   "execution_count": 1,
   "id": "50daf810-a778-4ac6-b36e-04f51dfd9e37",
   "metadata": {},
   "outputs": [
    {
     "name": "stdout",
     "output_type": "stream",
     "text": [
      "\u001b[31mERROR: pip's dependency resolver does not currently take into account all the packages that are installed. This behaviour is the source of the following dependency conflicts.\n",
      "scrapydweb 1.5.0 requires click==7.1.2, but you have click 8.1.7 which is incompatible.\n",
      "scrapydweb 1.5.0 requires idna==2.7, but you have idna 3.6 which is incompatible.\n",
      "scrapydweb 1.5.0 requires pytz==2018.9, but you have pytz 2024.1 which is incompatible.\n",
      "scrapydweb 1.5.0 requires w3lib==2.0.0, but you have w3lib 2.1.2 which is incompatible.\u001b[0m\u001b[31m\n",
      "\u001b[0m"
     ]
    }
   ],
   "source": [
    "!pip install -q transformers sentencepiece sentence-transformers datasets"
   ]
  },
  {
   "cell_type": "markdown",
   "id": "30fa7f79-1f93-4386-96b9-1fd0aa78fbbe",
   "metadata": {},
   "source": [
    "## News Summary Pipeline"
   ]
  },
  {
   "cell_type": "code",
   "execution_count": 9,
   "id": "3d6caa0e-2aea-44e9-9379-5cc09090d583",
   "metadata": {},
   "outputs": [],
   "source": [
    "import os\n",
    "import json\n",
    "from util import utils\n",
    "from pymongo import MongoClient\n",
    "from dotenv import load_dotenv, find_dotenv"
   ]
  },
  {
   "cell_type": "code",
   "execution_count": 4,
   "id": "ba077d4f-7a01-433c-8251-ad0adab8b0e5",
   "metadata": {},
   "outputs": [
    {
     "data": {
      "text/plain": [
       "True"
      ]
     },
     "execution_count": 4,
     "metadata": {},
     "output_type": "execute_result"
    }
   ],
   "source": [
    "load_dotenv(find_dotenv())"
   ]
  },
  {
   "cell_type": "code",
   "execution_count": 5,
   "id": "85a090e1-9b4f-4787-a03b-d78fe0754547",
   "metadata": {},
   "outputs": [],
   "source": [
    "MONGO_CONN_STRING = 'mongodb://admin:7QdQ3v0M50<>@192.168.8.166:27017/'  # os.getenv(\"MONGO_CONNECTION_STRING\")"
   ]
  },
  {
   "cell_type": "code",
   "execution_count": 6,
   "id": "9bf02214-764f-404a-9401-44a273c876c6",
   "metadata": {},
   "outputs": [],
   "source": [
    "mongo_client = MongoClient(MONGO_CONN_STRING)\n",
    "db = mongo_client.get_database(os.getenv(\"MONGO_DB_NAME\"))"
   ]
  },
  {
   "cell_type": "markdown",
   "id": "5f6a3dda-cc27-4648-be12-f799485a38dc",
   "metadata": {},
   "source": [
    "### Prepare Dataset"
   ]
  },
  {
   "cell_type": "code",
   "execution_count": 7,
   "id": "0b4d3b23-3ac1-4ecf-96ed-5c8f90baa31f",
   "metadata": {},
   "outputs": [],
   "source": [
    "batch_date = {'$gte': '2024-04-05', '$lte': '2024-04-06'}"
   ]
  },
  {
   "cell_type": "code",
   "execution_count": 10,
   "id": "8651a5f5-0a69-41d3-bb6e-fe5a4c9017e4",
   "metadata": {},
   "outputs": [],
   "source": [
    "news_articles = json.loads(json.dumps(list(db.get_collection('raw-news').find({'created_at': batch_date})), cls=utils.CustomMongoDecoder))"
   ]
  },
  {
   "cell_type": "code",
   "execution_count": 15,
   "id": "123e5e2e-1e8d-45a9-aa4c-5b350d3a3ccc",
   "metadata": {},
   "outputs": [],
   "source": [
    "for article in news_articles:\n",
    "    article['processed_content'] = ''.join(art.strip() for art in article['raw_content'])"
   ]
  },
  {
   "cell_type": "code",
   "execution_count": 16,
   "id": "5f1a7318-5d23-46a2-8f0f-09e018f26e7a",
   "metadata": {},
   "outputs": [
    {
     "data": {
      "text/plain": [
       "'Many Republicans plan to skip the House GOP retreat as they grumble about both the location and the idea of spending time with one another, with tensions still running high inside the party in the wake of their unprecedented speakership drama.Fewer than 100 Republicans have RSVP’d to attend the retreat, which is less than half of the entire conference, according to a GOP source familiar with the attendance sheet.The retreat is scheduled to take place Wednesday and Thursday in West Virginia.Publicly, Republicans have cited a litany of reasons for not attending: from having to tend to reelection races to scheduling conflicts. GOP Rep. Nancy Mace of South Carolina, for example, is scheduled to appear on “Real Time with Bill Maher” later this week. Meanwhile, when asked if he was attending, GOP Rep. Kelly Armstrong of North Dakota told CNN: “No way, I have to run for governor.” And Rep. Tim Burchett of Tennessee quipped:\\xa0“I don’t retreat, I move forward! I got a farm to run.”But privately, some Republicans have complained about the venue choice. Sources said Speaker Mike Johnson selected the Greenbrier Resort because it was “family friendly,” in a break from past retreats which have taken place in sunny Florida – the preferred location of former Speaker Kevin McCarthy.And other GOP lawmakers and aides told CNN they were simply not enthusiastic about the idea of having to huddle with the rest of their party at a time when Republican infighting has prevented them from even passing procedural votes.In a remarkable split screen, firebrand GOP Rep. Matt Gaetz of Florida will be attending a rally in Texas on Thursday in support of Brandon Herrera, a far-right candidate who is challenging GOP Rep. Tony Gonzales.In another hiccup for the retreat, the House GOP’s keynote speaker – Fox Business Host Larry Kudlow – had to drop out at the last minute, sources say.\\xa0Howard Lutnick, the CEO of Cantor Fitzgerald, will take his place instead.Among the Republicans who have decided to skip the retreat include Rep. Mark Green of Tennessee, the chairman of the House Homeland Security Committee; Reps. Dusty Johnson of South Dakota and Stephanie Bice of Oklahoma, the co-chairs of the Main Street Caucus; and Rep. Dave Joyce of Ohio, chairman of the Republican Governance Group.© 2024 Cable News Network. A Warner Bros. Discovery Company. All Rights Reserved.CNN Sans ™ & © 2016 Cable News Network.'"
      ]
     },
     "execution_count": 16,
     "metadata": {},
     "output_type": "execute_result"
    }
   ],
   "source": [
    "article['processed_content']"
   ]
  },
  {
   "cell_type": "code",
   "execution_count": null,
   "id": "bfe35684-fc8f-4cc7-8c60-b56dd36ae446",
   "metadata": {},
   "outputs": [],
   "source": []
  }
 ],
 "metadata": {
  "kernelspec": {
   "display_name": "USElectionsGPT",
   "language": "python",
   "name": "uselectionsgpt"
  },
  "language_info": {
   "codemirror_mode": {
    "name": "ipython",
    "version": 3
   },
   "file_extension": ".py",
   "mimetype": "text/x-python",
   "name": "python",
   "nbconvert_exporter": "python",
   "pygments_lexer": "ipython3",
   "version": "3.9.6"
  }
 },
 "nbformat": 4,
 "nbformat_minor": 5
}
