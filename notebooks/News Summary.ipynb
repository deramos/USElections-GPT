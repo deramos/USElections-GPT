{
 "cells": [
  {
   "cell_type": "markdown",
   "id": "814d98b1-5f48-44a5-a4b4-83aa5ca8be9c",
   "metadata": {},
   "source": [
    "# News Article Summarization. \n",
    "This notebook prepares news articles to be inserted into the ChromaDB vector database. First, it creates a summary of the news article, then it identifies important Named Entities such as the names of politicians, locations, and relevant dates. Having a news summary allows us to quickly perform small-to-big retrieval; finding the full article from it's brief overview. This method helps us evaluate the Language Learning Model (LLM) more effectively. Additionally, the identified entities will be used as metadata and embedded with the news articles, aiding in fine-tuning and evaluating the LLM.\n",
    "\n",
    "For more insight into this approach, check out this YouTube video by Jerry Liu, Founder of LlmamaIndex: https://youtu.be/TRjq7t2Ms5I."
   ]
  },
  {
   "cell_type": "markdown",
   "id": "0161c5e3-0925-4bac-b2f7-f71936c03665",
   "metadata": {},
   "source": [
    "## Config & Install Libraries\n",
    "Check if Huggingface transformers and required libraries are installed"
   ]
  },
  {
   "cell_type": "code",
   "execution_count": null,
   "id": "50daf810-a778-4ac6-b36e-04f51dfd9e37",
   "metadata": {},
   "outputs": [],
   "source": [
    "!pip install -q transformers sentencepiece sentence-transformers datasets "
   ]
  },
  {
   "cell_type": "code",
   "execution_count": 61,
   "id": "259f219c-11cc-40c1-a033-a2b0e68772d0",
   "metadata": {},
   "outputs": [
    {
     "name": "stderr",
     "output_type": "stream",
     "text": [
      "huggingface/tokenizers: The current process just got forked, after parallelism has already been used. Disabling parallelism to avoid deadlocks...\n",
      "To disable this warning, you can either:\n",
      "\t- Avoid using `tokenizers` before the fork if possible\n",
      "\t- Explicitly set the environment variable TOKENIZERS_PARALLELISM=(true | false)\n"
     ]
    }
   ],
   "source": [
    "!pip install -q spacy"
   ]
  },
  {
   "cell_type": "code",
   "execution_count": 63,
   "id": "3bb674b7-f4c8-4a30-95d3-2545b512235f",
   "metadata": {},
   "outputs": [
    {
     "name": "stderr",
     "output_type": "stream",
     "text": [
      "huggingface/tokenizers: The current process just got forked, after parallelism has already been used. Disabling parallelism to avoid deadlocks...\n",
      "To disable this warning, you can either:\n",
      "\t- Avoid using `tokenizers` before the fork if possible\n",
      "\t- Explicitly set the environment variable TOKENIZERS_PARALLELISM=(true | false)\n"
     ]
    },
    {
     "name": "stdout",
     "output_type": "stream",
     "text": [
      "/Users/mac/Library/Python/3.9/lib/python/site-packages/urllib3/__init__.py:35: NotOpenSSLWarning: urllib3 v2 only supports OpenSSL 1.1.1+, currently the 'ssl' module is compiled with 'LibreSSL 2.8.3'. See: https://github.com/urllib3/urllib3/issues/3020\n",
      "  warnings.warn(\n",
      "Collecting en-core-web-sm==3.7.1\n",
      "  Downloading https://github.com/explosion/spacy-models/releases/download/en_core_web_sm-3.7.1/en_core_web_sm-3.7.1-py3-none-any.whl (12.8 MB)\n",
      "\u001b[2K     \u001b[90m━━━━━━━━━━━━━━━━━━━━━━━━━━━━━━━━━━━━━━━\u001b[0m \u001b[32m12.8/12.8 MB\u001b[0m \u001b[31m116.7 kB/s\u001b[0m eta \u001b[36m0:00:00\u001b[0m00:01\u001b[0m00:04\u001b[0m\n",
      "\u001b[?25hRequirement already satisfied: spacy<3.8.0,>=3.7.2 in /Users/mac/Documents/projects/USElections-GPT/venv/lib/python3.9/site-packages (from en-core-web-sm==3.7.1) (3.7.4)\n",
      "Requirement already satisfied: spacy-legacy<3.1.0,>=3.0.11 in /Users/mac/Documents/projects/USElections-GPT/venv/lib/python3.9/site-packages (from spacy<3.8.0,>=3.7.2->en-core-web-sm==3.7.1) (3.0.12)\n",
      "Requirement already satisfied: spacy-loggers<2.0.0,>=1.0.0 in /Users/mac/Documents/projects/USElections-GPT/venv/lib/python3.9/site-packages (from spacy<3.8.0,>=3.7.2->en-core-web-sm==3.7.1) (1.0.5)\n",
      "Requirement already satisfied: murmurhash<1.1.0,>=0.28.0 in /Users/mac/Documents/projects/USElections-GPT/venv/lib/python3.9/site-packages (from spacy<3.8.0,>=3.7.2->en-core-web-sm==3.7.1) (1.0.10)\n",
      "Requirement already satisfied: cymem<2.1.0,>=2.0.2 in /Users/mac/Documents/projects/USElections-GPT/venv/lib/python3.9/site-packages (from spacy<3.8.0,>=3.7.2->en-core-web-sm==3.7.1) (2.0.8)\n",
      "Requirement already satisfied: preshed<3.1.0,>=3.0.2 in /Users/mac/Documents/projects/USElections-GPT/venv/lib/python3.9/site-packages (from spacy<3.8.0,>=3.7.2->en-core-web-sm==3.7.1) (3.0.9)\n",
      "Requirement already satisfied: thinc<8.3.0,>=8.2.2 in /Users/mac/Documents/projects/USElections-GPT/venv/lib/python3.9/site-packages (from spacy<3.8.0,>=3.7.2->en-core-web-sm==3.7.1) (8.2.3)\n",
      "Requirement already satisfied: wasabi<1.2.0,>=0.9.1 in /Users/mac/Documents/projects/USElections-GPT/venv/lib/python3.9/site-packages (from spacy<3.8.0,>=3.7.2->en-core-web-sm==3.7.1) (1.1.2)\n",
      "Requirement already satisfied: srsly<3.0.0,>=2.4.3 in /Users/mac/Documents/projects/USElections-GPT/venv/lib/python3.9/site-packages (from spacy<3.8.0,>=3.7.2->en-core-web-sm==3.7.1) (2.4.8)\n",
      "Requirement already satisfied: catalogue<2.1.0,>=2.0.6 in /Users/mac/Documents/projects/USElections-GPT/venv/lib/python3.9/site-packages (from spacy<3.8.0,>=3.7.2->en-core-web-sm==3.7.1) (2.0.10)\n",
      "Requirement already satisfied: weasel<0.4.0,>=0.1.0 in /Users/mac/Documents/projects/USElections-GPT/venv/lib/python3.9/site-packages (from spacy<3.8.0,>=3.7.2->en-core-web-sm==3.7.1) (0.3.4)\n",
      "Requirement already satisfied: typer<0.10.0,>=0.3.0 in /Users/mac/Documents/projects/USElections-GPT/venv/lib/python3.9/site-packages (from spacy<3.8.0,>=3.7.2->en-core-web-sm==3.7.1) (0.9.4)\n",
      "Requirement already satisfied: smart-open<7.0.0,>=5.2.1 in /Users/mac/Documents/projects/USElections-GPT/venv/lib/python3.9/site-packages (from spacy<3.8.0,>=3.7.2->en-core-web-sm==3.7.1) (6.4.0)\n",
      "Requirement already satisfied: tqdm<5.0.0,>=4.38.0 in /Users/mac/Documents/projects/USElections-GPT/venv/lib/python3.9/site-packages (from spacy<3.8.0,>=3.7.2->en-core-web-sm==3.7.1) (4.66.2)\n",
      "Requirement already satisfied: requests<3.0.0,>=2.13.0 in /Users/mac/Library/Python/3.9/lib/python/site-packages (from spacy<3.8.0,>=3.7.2->en-core-web-sm==3.7.1) (2.31.0)\n",
      "Requirement already satisfied: pydantic!=1.8,!=1.8.1,<3.0.0,>=1.7.4 in /Users/mac/Documents/projects/USElections-GPT/venv/lib/python3.9/site-packages (from spacy<3.8.0,>=3.7.2->en-core-web-sm==3.7.1) (2.6.4)\n",
      "Requirement already satisfied: jinja2 in /Users/mac/Documents/projects/USElections-GPT/venv/lib/python3.9/site-packages (from spacy<3.8.0,>=3.7.2->en-core-web-sm==3.7.1) (3.0.0)\n",
      "Requirement already satisfied: setuptools in /Users/mac/Documents/projects/USElections-GPT/venv/lib/python3.9/site-packages (from spacy<3.8.0,>=3.7.2->en-core-web-sm==3.7.1) (68.2.0)\n",
      "Requirement already satisfied: packaging>=20.0 in /Users/mac/Library/Python/3.9/lib/python/site-packages (from spacy<3.8.0,>=3.7.2->en-core-web-sm==3.7.1) (24.0)\n",
      "Requirement already satisfied: langcodes<4.0.0,>=3.2.0 in /Users/mac/Documents/projects/USElections-GPT/venv/lib/python3.9/site-packages (from spacy<3.8.0,>=3.7.2->en-core-web-sm==3.7.1) (3.3.0)\n",
      "Requirement already satisfied: numpy>=1.19.0 in /Users/mac/Documents/projects/USElections-GPT/venv/lib/python3.9/site-packages (from spacy<3.8.0,>=3.7.2->en-core-web-sm==3.7.1) (1.26.4)\n",
      "Requirement already satisfied: annotated-types>=0.4.0 in /Users/mac/Documents/projects/USElections-GPT/venv/lib/python3.9/site-packages (from pydantic!=1.8,!=1.8.1,<3.0.0,>=1.7.4->spacy<3.8.0,>=3.7.2->en-core-web-sm==3.7.1) (0.6.0)\n",
      "Requirement already satisfied: pydantic-core==2.16.3 in /Users/mac/Documents/projects/USElections-GPT/venv/lib/python3.9/site-packages (from pydantic!=1.8,!=1.8.1,<3.0.0,>=1.7.4->spacy<3.8.0,>=3.7.2->en-core-web-sm==3.7.1) (2.16.3)\n",
      "Requirement already satisfied: typing-extensions>=4.6.1 in /Users/mac/Library/Python/3.9/lib/python/site-packages (from pydantic!=1.8,!=1.8.1,<3.0.0,>=1.7.4->spacy<3.8.0,>=3.7.2->en-core-web-sm==3.7.1) (4.10.0)\n",
      "Requirement already satisfied: charset-normalizer<4,>=2 in /Users/mac/Library/Python/3.9/lib/python/site-packages (from requests<3.0.0,>=2.13.0->spacy<3.8.0,>=3.7.2->en-core-web-sm==3.7.1) (3.3.2)\n",
      "Requirement already satisfied: idna<4,>=2.5 in /Users/mac/Library/Python/3.9/lib/python/site-packages (from requests<3.0.0,>=2.13.0->spacy<3.8.0,>=3.7.2->en-core-web-sm==3.7.1) (3.6)\n",
      "Requirement already satisfied: urllib3<3,>=1.21.1 in /Users/mac/Library/Python/3.9/lib/python/site-packages (from requests<3.0.0,>=2.13.0->spacy<3.8.0,>=3.7.2->en-core-web-sm==3.7.1) (2.2.1)\n",
      "Requirement already satisfied: certifi>=2017.4.17 in /Users/mac/Library/Python/3.9/lib/python/site-packages (from requests<3.0.0,>=2.13.0->spacy<3.8.0,>=3.7.2->en-core-web-sm==3.7.1) (2024.2.2)\n",
      "Requirement already satisfied: blis<0.8.0,>=0.7.8 in /Users/mac/Documents/projects/USElections-GPT/venv/lib/python3.9/site-packages (from thinc<8.3.0,>=8.2.2->spacy<3.8.0,>=3.7.2->en-core-web-sm==3.7.1) (0.7.11)\n",
      "Requirement already satisfied: confection<1.0.0,>=0.0.1 in /Users/mac/Documents/projects/USElections-GPT/venv/lib/python3.9/site-packages (from thinc<8.3.0,>=8.2.2->spacy<3.8.0,>=3.7.2->en-core-web-sm==3.7.1) (0.1.4)\n",
      "Requirement already satisfied: click<9.0.0,>=7.1.1 in /Users/mac/Library/Python/3.9/lib/python/site-packages (from typer<0.10.0,>=0.3.0->spacy<3.8.0,>=3.7.2->en-core-web-sm==3.7.1) (8.1.7)\n",
      "Requirement already satisfied: cloudpathlib<0.17.0,>=0.7.0 in /Users/mac/Documents/projects/USElections-GPT/venv/lib/python3.9/site-packages (from weasel<0.4.0,>=0.1.0->spacy<3.8.0,>=3.7.2->en-core-web-sm==3.7.1) (0.16.0)\n",
      "Requirement already satisfied: MarkupSafe>=2.0.0rc2 in /Users/mac/Documents/projects/USElections-GPT/venv/lib/python3.9/site-packages (from jinja2->spacy<3.8.0,>=3.7.2->en-core-web-sm==3.7.1) (2.0.0)\n",
      "Installing collected packages: en-core-web-sm\n",
      "Successfully installed en-core-web-sm-3.7.1\n",
      "\u001b[38;5;2m✔ Download and installation successful\u001b[0m\n",
      "You can now load the package via spacy.load('en_core_web_sm')\n"
     ]
    }
   ],
   "source": [
    "!python -m spacy download en_core_web_sm"
   ]
  },
  {
   "cell_type": "markdown",
   "id": "30fa7f79-1f93-4386-96b9-1fd0aa78fbbe",
   "metadata": {},
   "source": [
    "## News Summary Pipeline"
   ]
  },
  {
   "cell_type": "code",
   "execution_count": 3,
   "id": "3d6caa0e-2aea-44e9-9379-5cc09090d583",
   "metadata": {},
   "outputs": [],
   "source": [
    "import os\n",
    "import json\n",
    "from util import utils\n",
    "from pymongo import MongoClient\n",
    "from dotenv import load_dotenv, find_dotenv"
   ]
  },
  {
   "cell_type": "code",
   "execution_count": 4,
   "id": "ba077d4f-7a01-433c-8251-ad0adab8b0e5",
   "metadata": {},
   "outputs": [
    {
     "data": {
      "text/plain": [
       "True"
      ]
     },
     "execution_count": 4,
     "metadata": {},
     "output_type": "execute_result"
    }
   ],
   "source": [
    "load_dotenv(find_dotenv())"
   ]
  },
  {
   "cell_type": "code",
   "execution_count": 5,
   "id": "85a090e1-9b4f-4787-a03b-d78fe0754547",
   "metadata": {},
   "outputs": [],
   "source": [
    "MONGO_CONN_STRING = 'mongodb://admin:7QdQ3v0M50<>@192.168.8.166:27017/'  # os.getenv(\"MONGO_CONNECTION_STRING\")"
   ]
  },
  {
   "cell_type": "code",
   "execution_count": 6,
   "id": "9bf02214-764f-404a-9401-44a273c876c6",
   "metadata": {},
   "outputs": [],
   "source": [
    "mongo_client = MongoClient(MONGO_CONN_STRING)\n",
    "db = mongo_client.get_database(os.getenv(\"MONGO_DB_NAME\"))"
   ]
  },
  {
   "cell_type": "markdown",
   "id": "5f6a3dda-cc27-4648-be12-f799485a38dc",
   "metadata": {},
   "source": [
    "### Prepare Dataset"
   ]
  },
  {
   "cell_type": "code",
   "execution_count": 7,
   "id": "0b4d3b23-3ac1-4ecf-96ed-5c8f90baa31f",
   "metadata": {},
   "outputs": [],
   "source": [
    "batch_date = {'$gte': '2024-04-08', '$lte': '2024-04-09'}"
   ]
  },
  {
   "cell_type": "code",
   "execution_count": 8,
   "id": "8651a5f5-0a69-41d3-bb6e-fe5a4c9017e4",
   "metadata": {},
   "outputs": [],
   "source": [
    "news_articles = json.loads(json.dumps(list(db.get_collection('raw-news').find({'created_at': batch_date})), cls=utils.CustomMongoDecoder))"
   ]
  },
  {
   "cell_type": "code",
   "execution_count": 9,
   "id": "123e5e2e-1e8d-45a9-aa4c-5b350d3a3ccc",
   "metadata": {},
   "outputs": [],
   "source": [
    "for article in news_articles:\n",
    "    article['processed_content'] = ''.join(art.strip() for art in article['raw_content'])\n",
    "    article['processed_content'] = article['processed_content'].replace('\\xa0', ' ')"
   ]
  },
  {
   "cell_type": "code",
   "execution_count": 25,
   "id": "5f1a7318-5d23-46a2-8f0f-09e018f26e7a",
   "metadata": {},
   "outputs": [
    {
     "data": {
      "text/plain": [
       "'South Carolina catapultedto the top of the Democratic primary in 2020, and on Monday, the president returned hoping the state – and its Black voters – can help recharge.The state’s February 3 Democratic primary is not competitive. But with many Black voters saying in polls and Democratic focus groups they feel disengaged and disenchanted with the political process, South Carolina – far from a battleground in the general election – will be the first electoral test of how deep a hole Biden is actually in.During Monday’s speech, Biden nodded to the significance of Rep. Jim Clyburn and the Black voters of South Carolina, whom he has credited with turning the tide of the 2020 primary election in his favor.“It’s because of this congregation and the Black community of South Carolina - and it’s not an exaggeration – and Jim Clyburn – that I stand here today as your president. And I’ve done my best to honor your trust.”With his campaign trailing in early polling of the general election and some even in his administration thinking he is too weak to be mounting a reelection, Biden has been trying to get the country to agree with him that the future of democracy depends on his winning. He madeon Friday in an impassioned speech near Valley Forge, Pennsylvania, where George Washington and his army survived a brutal winter and went on to win the Revolutionary War.But by heading to the Mother Emanuel AME Church in Charleston, he is reaching for a very different and painful part of American history – and making a very explicit attempt to start winning back the Black support that has drifted away from him, in a place he will say has become a warning of what extremism can lead to.“The word of God was pierced by bullets of hate and rage, propelled by not just gun powder but by a poison — poison that for too long haunted this nation. What is that poison? White supremacy. All that is, is a poison. Throughout our history, it’s ripped this nation apart. This has no place in America. Not today, tomorrow or ever,” Biden said, recalling the 2015 shooting at the church by a White supremacist. He met with survivors and the families of those killed in the shooting for more than an hour later Monday.– who is a Biden campaign co-chair – told CNN that he believes Biden can still resonate with voters, but that he will need to directly engage with voters and remind them what the administration has accomplished.“It is one thing for people to see you. It is also one thing for people to hear you. But the most effective thing is for people to feel you. That is what is effective,” Clyburn said, drawing on Biden’s extensive history with South Carolina, where his campaign has a team of operatives in place. “That’s why he’s effective. People feel Joe Biden.”But Biden’s connection to the state and the community is what resonates most, Clyburn argued – and that was on display Monday as Biden was frequently cheered on with chants of “four more years” from the church crowd.That connection goes back decades: from the many family vacations he started taking in the years after the accident that killed his first wife and baby daughter – including in 2015, in the weeks after his son Beau died – to the 2020 primary, where an unexpectedly large victory there after a string of near-campaign-ending early losses.“You all made this possible,” he said Monday, adding, “That’s democracy – and I’m proud to make sure to have led the effort to make sure that your voice, the South Carolina voice is heard – because now you’re first in the nation,” a reference to the Democratic Party making South Carolina the first Democratic primary state in this election.Biden’s last trip to Mother Emanuel was nearly nine years ago, in the spring of 2015. The congregation was mourning, and so was he, having buried his son Beau two weeks after a White supremacist murdered nine Black parishioners having a Bible study in the basement, including pastor and state Sen. Clementa Pinckney.Then-Vice President Biden spoke for only a few minutes. “No words can mend a broken heart, no music can fill a gaping void,” he said then. “Sometimes even faith leaves you, just for a second, sometimes you doubt.”Jaime Harrison – now the Democratic National Committee chair but a former South Carolina state party chair and US Senate candidate – said that as a South Carolinian, Biden’s remarks are still “burnt” in his mind.“Joe Biden is going to walk out of South Carolina with strong support because the state knows him; the state knows how hard he’s fought for them,” Harrison said. “That still sits with me because that was just genuine, who Joe Biden is. That wasn’t because of politics or any image. It is who he is.”During Monday’s speech, the president cast the 2024 election as a battle for truth as he compared his predecessor to defeated Confederate soldiers.“The truth is under assault in America. As a consequence, so is our freedom, our democracy, our very country,” Biden said.Biden, who is expected to spend the election year starkly framing the choice as critical to the future of democracy, used his remarks to explicitly compare former President Donald Trump and his most ardent supporters to “defeated Confederates” after the Civil War.“After the Civil War, the defeated Confederates couldn’t accept the verdict of the war, they lost. So they say they embraced what is known as the lost cause, the self-serving lie that the Civil War was not about slavery but about states’ rights. They call that the noble cause. That was a lie,” he said.“Now, we’re living in an era of a second lost cause. Once again, there are some in this country trying to turn a loss into a lie. A lie which if allowed to live will once again bring terrible damage to this country. This time the lie is about the 2020 election.”In contrast, Biden highlighted some of his key accomplishments: record low Black unemployment, record high Black health insurance signups, funding for HBCUs, efforts to replace lead pipes, and the appointment of diverse judicial candidates.Biden detailed the events of January 6, 2021, describing a “violent mob” that was “whipped up by lies from a defeated former president.”Trump’s actions that day, the president said, “were among the worst derelictions of duty by any president in American history,” calling the former president a “loser.”“Losers are taught to concede when they lose. And he’s a loser,” Biden said to cheers.Biden cast Trump’s actions and the events of January 6 as “an attempt to overturn a free and fair election by force of violence.”“Let me say what others cannot: We must reject political violence in America. Always, not sometimes, always. It is never appropriate. The violence of January 6 was the extension of an old playbook from the threats of violence and intimidation,” he said.He warned broadly that Trump’s movement – “the same movement” of January 6 – “isn’t just trying to rewrite history on January 6, they were trying to determine to erase history and your future,” he said, pointing to efforts to ban books, deny the right to vote, and “destroying diversity, equality and inclusion all across America. Harboring hate and replacing hope with anger and resentment.”“It’s a dangerous view of America. A narrow view of America. A zero-sum view of America that says if you win I lose, if you succeed it must be I failed. If you get ahead I fall behind. May be worst of all, if I hold you down, I lift myself up,” he warned.Because of his own decades of work and his connection to former President Barack Obama, Biden had a well of consistent Black support that stuck by him in his bleakest moments in the 2020 primaries. After embarrassing losses in primaries with much Whiter electorates, that support helped him win in South Carolina so convincingly that it accelerated the end of the primary battle.showed Biden winning Black voters 87% to 12% over Trump nationally in 2020.This time around,showed Biden’s approval rating at 62% among Black voters, taking 80% of the vote in a hypothetical matchup against Trump.showed 75% of Black voters picking him in a hypothetical race with Trump.But that’s not the metric top Democratic operatives outside and inside the Biden campaign have been stressing about. The bigger concern is that Black voters don’t turn out to vote, citing 2020 and the 2022 midterms, when they didn’t show up at the levels strategists had hoped for. They argue that if the Republican nominee again gets strong support among White voters in more rural part of battleground states including Wisconsin, Michigan, Pennsylvania, Georgia and North Carolina, Biden will desperately need to make up those numbers with big votes out of places like Milwaukee, Detroit, Pittsburgh, Philadelphia, Atlanta and Charlotte, North Carolina.There are other issues plaguing the president as well, such as deep dissatisfaction in progressive circles about Biden’s response to the Israel-Hamas war. As Biden began to speak about the threat to democracy during Monday’s speech, he was interrupted by a group of protesters calling for a ceasefire in Gaza.A small handful of protesters stood up and began shouting at the president. They were asked to leave, as supporters began chanting, “Four more years.” The moment underscored the divisions within the Democratic Party on the issue three months since Hamas’ attack on Israel.Biden acknowledged the protest: “I understand the passion and I’ve been quietly working … with the Israeli government to reduce – significantly get out of Gaza.”Biden aides highlight data points such as the drop in Black unemployment and the growth in Black businesses, as well as a reduction in theor the Biden administration’s investments in historically Black colleges and universities. Early advertising and organizing has promoted that record and stressed how much worse life would be for Black Americans if Trump returned to the White House.But Biden deputy campaign manager Quentin Fulks acknowledged how steep the climb remains.“We’re not going to wait and parachute into these communities the last minute and ask them for their vote. We’re going to earn their vote,” Fulks told reporters last week. “Voters of color are the ones who have the most at stake in this election, and we need to make sure that every single one of them understands the choice in front of them.”Getting Black voters – and voters overall – to choose Biden, leaders warn, will take more than lofty speeches about the Continental Army delivered in front of well-lit pillars.“The urgency that we have right now is for Black folks to have the freedom to feel like we can live the American dream,” Harrison said.“This president is fighting for the freedom for folks to be able to go to that church, pray to their God and do it without the threat of gun violence because somebody has some racial hatred. Just the freedom to live your life, to take care of your kids in terms of their schools, having money in your pocket and actually living the American dream,” he added.In Pennsylvania, once again expected to be a presidential battleground this year, Democratic Gov. Josh Shapiro started talking about this as “real freedom” during his successful 2022 gubernatorial campaign. While praising Biden’s speech Friday, Shapiro urged the president to build on that with specifics.“After establishing that historical foundation, it’s important to explain to people how freedom can make their lives better,” Shapiro said. “Real freedom to control your own body. That’s a real-time issue. Real freedom for your kids to read the books they want. Real freedom to have safety and security in your neighborhood. So I think the journey through our history is important to lay that precedent and then it’s really important that we talk about real freedom in real terms that impact people’s lives today.”Rep. Madeleine Dean, a Democrat who represents the area that includes Valley Forge, said she hopes that Biden kicking off 2024 with a speech on democracy followed by remarks in South Carolina will serve as “a pivot point.”“We have to summon up that same courage to fight tyranny and to fight the forces that would be autocratic and would tear away the values that we all really prize,” Dean said.The president’s reelection campaign raised more than $1 million from online donors in the 24 hours after the speech near Valley Forge, a campaign official told CNN.The aftermath of the 2015 Mother Emanuel shooting extends politically to the 2024 campaign.biggest moment in the national spotlight as South Carolina governor was when she called, in the days after the shooting, for the Confederate flag to be removed from the Statehouse grounds – in part to provide a way out for Republicans running in that year’s South Carolina primary from being chased with questions about keeping the flag there.Now, in her own GOP presidential campaign, Haley hasfor leaving out slavery when asked at an event in late December about the cause of the Civil War. (said that based on his own studies, he believes the war “could have been negotiated.”)A Biden campaign aide said the church wasn’t chosen as the site of the speech to jab at Haley as she tries to emerge as the main alternative to Trump, arguing that there are much bigger issues at play about America, democracy and extremism that brought Biden back to this church and across the water from where the first shots of the Civil War were fired at Fort Sumter.Still, Biden couldn’t resist a small jab, saying, “Let me be clear for those who don’t seem to know: Slavery was the cause” of the Civil War.On her own visit to South Carolina on Saturday, Vice President Kamala Harris warned in Myrtle Beach of a “full-on attack on hard-won freedom and rights” that included a deliberate dig at Haley.“We see extremists ban books and attempt to erase, overlook and even rewrite the dark parts of America’s history. For example, the Civil War – which I really have to say, was about slavery,” Harris said.Citing the administration’s expansion of high-speed internet access, focus on Black maternal mortality and funding of historically Black colleges and universities, she said those efforts were made possible “because you voted and organized in 2020.”The Biden campaign is taking little for granted in South Carolina. Harris’ next trip is already scheduled: She will be at the state Capitol next Monday for a speech marking Martin Luther King Day.CNN’s Arlette Saenz contributed to this report.© 2024 Cable News Network. A Warner Bros. Discovery Company. All Rights Reserved.CNN Sans ™ & © 2016 Cable News Network.'"
      ]
     },
     "execution_count": 25,
     "metadata": {},
     "output_type": "execute_result"
    }
   ],
   "source": [
    "article['processed_content']"
   ]
  },
  {
   "cell_type": "markdown",
   "id": "90714437-0414-4872-bf02-8203d7fcd556",
   "metadata": {},
   "source": [
    "## Load Summarization Model"
   ]
  },
  {
   "cell_type": "code",
   "execution_count": 21,
   "id": "8b60181e-0b78-42ab-8e56-7625cf061544",
   "metadata": {},
   "outputs": [],
   "source": [
    "MODEL_NAME = 'google/bigbird-roberta-base'"
   ]
  },
  {
   "cell_type": "code",
   "execution_count": 57,
   "id": "8e956a8a-041a-40db-ab2b-d58540010d2d",
   "metadata": {},
   "outputs": [
    {
     "name": "stdout",
     "output_type": "stream",
     "text": [
      "Summary with Named Entities:  South Carolina catapultedto the top of the Democratic primary in 2020, and on Monday, the president returned hoping the state – and its Black voters – can help recharge. The state’s February 3 Democratic primary is not competitive. But with many Black voters saying in polls and Democratic focus groups they feel disengaged and disenchanted with the political process, South Carolina will be the first electoral test of how deep a hole Biden is in.\n"
     ]
    }
   ],
   "source": [
    "from transformers import BartTokenizer, BartForConditionalGeneration\n",
    "\n",
    "# Load fine-tuned BART model for summarization\n",
    "model_name = \"facebook/bart-large-cnn\"\n",
    "tokenizer = BartTokenizer.from_pretrained(model_name)\n",
    "model = BartForConditionalGeneration.from_pretrained(model_name)\n",
    "\n",
    "# Text to be summarized\n",
    "text = article['processed_content']\n",
    "\n",
    "# Tokenize and encode the text\n",
    "inputs = tokenizer([text], max_length=1024, return_tensors=\"pt\", truncation=True)\n",
    "\n",
    "# Generate summary\n",
    "summary_ids = model.generate(inputs.input_ids, num_beams=4, length_penalty=2.0, early_stopping=True)\n",
    "\n",
    "# Decode and print the summary\n",
    "summary = tokenizer.decode(summary_ids[0], skip_special_tokens=True)\n",
    "\n",
    "# print summary\n",
    "print(\"Summary with Named Entities: \", summary)"
   ]
  },
  {
   "cell_type": "code",
   "execution_count": 67,
   "id": "8dcddf58-cf04-4582-8237-bbb6f65aa923",
   "metadata": {},
   "outputs": [],
   "source": [
    "import spacy\n",
    "from collections import defaultdict\n",
    "\n",
    "# Load the English language model\n",
    "nlp = spacy.load(\"en_core_web_sm\")\n",
    "\n",
    "# Define the input text\n",
    "text = article['processed_content']\n",
    "\n",
    "# Process the text with spaCy\n",
    "doc = nlp(text)\n",
    "\n",
    "# Extract named entities\n",
    "entities = [(ent.text, ent.label_) for ent in doc.ents]"
   ]
  },
  {
   "cell_type": "code",
   "execution_count": 68,
   "id": "a9c52348-6302-446c-a5a2-914a30f3414d",
   "metadata": {},
   "outputs": [
    {
     "name": "stdout",
     "output_type": "stream",
     "text": [
      "{'GPE': ['South Carolina', 'South Carolina', 'South Carolina', 'South Carolina', 'Valley Forge', 'Pennsylvania', 'Charleston', 'America', 'South Carolina', 'South Carolina', 'South Carolina', 'South Carolina', 'South Carolina', 'America', 'America', 'America', 'Harboring', 'America', 'America', 'America', 'South Carolina', 'Wisconsin', 'Michigan', 'Pennsylvania', 'Georgia', 'North Carolina', 'Milwaukee', 'Detroit', 'Pittsburgh', 'Philadelphia', 'Atlanta', 'Charlotte', 'North Carolina', 'Israel', 'Gaza', 'Israel', 'Gaza', 'Pennsylvania', 'South Carolina', 'Valley Forge', 'South Carolina', 'South Carolina', 'Haley', 'America', 'South Carolina', 'Myrtle Beach', 'Haley', 'America', 'South Carolina'], 'NORP': ['Democratic', 'Democratic', 'Democratic', 'American', 'Democratic', 'South Carolinian', 'Confederates', 'American', 'Democratic', 'Republican', 'Israeli', 'Black Americans', 'American', 'American', 'Democratic', 'Democrat', 'Republicans'], 'DATE': ['2020', 'Monday', 'February 3', 'Monday', '2020', 'today', 'Friday', 'winter', 'tomorrow', '2015', 'Monday', 'four more years', 'decades', 'the years', '2015', 'the weeks', '2020', 'Monday', 'nearly nine years ago', 'the spring of 2015', 'two weeks', 'Monday', '2024', 'the election year', '2020', 'January 6, 2021', 'that day', 'January 6', 'January 6', 'January 6', 'January 6', '2020', '2020', '2022', 'Monday', 'Four more years', 'the issue three months', 'last week', 'this year', '2022', 'Friday', 'today', '2024', '2015', '2024', 'the days', 'year', 'late December', 'Saturday', 'next Monday', '2024'], 'ORDINAL': ['first', 'first', 'first', 'first', 'second', 'second', 'first'], 'PERSON': ['Biden', 'Biden', 'Jim Clyburn', 'Jim Clyburn', 'Biden', 'George Washington', 'Biden', 'Biden', 'Biden', 'Clyburn', 'Biden', 'Joe Biden', 'Biden', 'Clyburn', 'Biden', 'Beau', 'Biden', 'Mother Emanuel', 'Beau', 'Clementa Pinckney', 'Biden', 'Biden', 'Biden', 'Harrison', 'Joe Biden', 'Biden', 'Biden', 'Donald Trump', 'Biden', 'Biden', 'Biden', 'Biden', 'Barack Obama', 'Biden', 'Whiter', 'Biden', 'Biden', 'Biden', 'Biden', 'Biden', 'Biden', 'Biden', 'Biden', 'Biden', 'Quentin Fulks', 'Biden', 'Harrison', 'Josh Shapiro', 'Biden', 'Madeleine Dean', 'Valley Forge', 'Biden', 'Dean', 'Haley', 'Biden', 'Biden', 'Biden', 'Kamala Harris', 'Harris', 'Biden', 'Harris', 'Martin Luther King Day', 'Arlette Saenz'], 'EVENT': ['the Revolutionary War', 'the Civil War', 'the Civil War', 'the Civil War', 'Mother Emanuel', 'the Civil War', 'the Civil War', 'the Civil War', 'the Civil War'], 'ORG': ['the Mother Emanuel AME Church', 'CNN', 'the Democratic Party', 'the Democratic National Committee', 'US Senate', 'Confederate', 'Trump', 'Trump', '”“It', 'Trump', 'Trump', 'the Democratic Party', 'Hamas', 'Trump', 'the White House', 'the Continental Army', 'Shapiro', 'Shapiro', 'Confederate', 'Statehouse', 'GOP', 'Trump', 'Capitol', 'CNN', 'Cable News Network', 'Warner Bros. Discovery Company', 'CNN', 'Cable News Network'], 'TIME': ['more than an hour', 'only a few minutes', 'the last minute', 'the 24 hours'], 'CARDINAL': ['one', 'one', 'nine', 'zero', 'one', '2020.”The'], 'WORK_OF_ART': ['Bible'], 'PERCENT': ['87% to 12%', '62%', '80%', '75%'], 'MONEY': ['more than $1 million'], 'FAC': ['Fort Sumter']}\n"
     ]
    }
   ],
   "source": [
    "# Print the named entities\n",
    "processed_entities = defaultdict(list)\n",
    "\n",
    "for entity, label in entities:\n",
    "    processed_entities[label].append(entity)\n",
    "\n",
    "print(dict(processed_entities))"
   ]
  },
  {
   "cell_type": "code",
   "execution_count": null,
   "id": "253a146e-76ef-4bb9-ad87-2293ab2f92ad",
   "metadata": {},
   "outputs": [],
   "source": []
  }
 ],
 "metadata": {
  "kernelspec": {
   "display_name": "USElectionsGPT",
   "language": "python",
   "name": "uselectionsgpt"
  },
  "language_info": {
   "codemirror_mode": {
    "name": "ipython",
    "version": 3
   },
   "file_extension": ".py",
   "mimetype": "text/x-python",
   "name": "python",
   "nbconvert_exporter": "python",
   "pygments_lexer": "ipython3",
   "version": "3.9.6"
  }
 },
 "nbformat": 4,
 "nbformat_minor": 5
}
